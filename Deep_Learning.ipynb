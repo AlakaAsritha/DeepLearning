{
  "nbformat": 4,
  "nbformat_minor": 0,
  "metadata": {
    "colab": {
      "provenance": []
    },
    "kernelspec": {
      "name": "python3",
      "display_name": "Python 3"
    },
    "language_info": {
      "name": "python"
    }
  },
  "cells": [
    {
      "cell_type": "markdown",
      "source": [
        "LAB-1 (EXPERIMENT-1)\n",
        "# Perceptron Model for Binary Classification\n",
        "This notebook demonstrates the implementation of a perceptron model for a binary classification problem using the Penguins dataset. A perceptron is a fundamental unit of a neural network that classifies data points by learning a linear decision boundary. The dataset used for this task includes features like Sepal Length (cm) and Sepal Width (cm), with the target variable being Species. This binary classification focuses on classifying \"setosa\" Iris flowers versus \"non-setosa\" Iris flowers.\n",
        "\n",
        "## Dataset Description\n",
        "The Iris dataset contains information about Iris flowers, including their species, sepal length, and sepal width. Here, we focus on:\n",
        "\n",
        "Features: Sepal Length (cm) (length of the flowers' sepals) and Sepal Width (cm) (width of the flowers' sepals).\n",
        "Target: Species (1 for \"setosa\", 0 for \"non-setosa\").\n",
        "\n"
      ],
      "metadata": {
        "id": "3_joCmbK2bUt"
      }
    },
    {
      "cell_type": "code",
      "source": [
        "import pandas as pd\n",
        "import numpy as np\n",
        "\n",
        "# Loads Iris dataset\n",
        "url = \"https://raw.githubusercontent.com/mwaskom/seaborn-data/master/iris.csv\"\n",
        "data = pd.read_csv(url)\n",
        "\n",
        "#  first few rows\n",
        "data.head()\n"
      ],
      "metadata": {
        "colab": {
          "base_uri": "https://localhost:8080/",
          "height": 206
        },
        "id": "Kv52welfr6sy",
        "outputId": "739ae325-3de0-4aa5-b78e-c9e9c867e2dd"
      },
      "execution_count": null,
      "outputs": [
        {
          "output_type": "execute_result",
          "data": {
            "text/plain": [
              "   sepal_length  sepal_width  petal_length  petal_width species\n",
              "0           5.1          3.5           1.4          0.2  setosa\n",
              "1           4.9          3.0           1.4          0.2  setosa\n",
              "2           4.7          3.2           1.3          0.2  setosa\n",
              "3           4.6          3.1           1.5          0.2  setosa\n",
              "4           5.0          3.6           1.4          0.2  setosa"
            ],
            "text/html": [
              "\n",
              "  <div id=\"df-828b9e4e-14b2-4d45-a33b-a8d2ac34d4f3\" class=\"colab-df-container\">\n",
              "    <div>\n",
              "<style scoped>\n",
              "    .dataframe tbody tr th:only-of-type {\n",
              "        vertical-align: middle;\n",
              "    }\n",
              "\n",
              "    .dataframe tbody tr th {\n",
              "        vertical-align: top;\n",
              "    }\n",
              "\n",
              "    .dataframe thead th {\n",
              "        text-align: right;\n",
              "    }\n",
              "</style>\n",
              "<table border=\"1\" class=\"dataframe\">\n",
              "  <thead>\n",
              "    <tr style=\"text-align: right;\">\n",
              "      <th></th>\n",
              "      <th>sepal_length</th>\n",
              "      <th>sepal_width</th>\n",
              "      <th>petal_length</th>\n",
              "      <th>petal_width</th>\n",
              "      <th>species</th>\n",
              "    </tr>\n",
              "  </thead>\n",
              "  <tbody>\n",
              "    <tr>\n",
              "      <th>0</th>\n",
              "      <td>5.1</td>\n",
              "      <td>3.5</td>\n",
              "      <td>1.4</td>\n",
              "      <td>0.2</td>\n",
              "      <td>setosa</td>\n",
              "    </tr>\n",
              "    <tr>\n",
              "      <th>1</th>\n",
              "      <td>4.9</td>\n",
              "      <td>3.0</td>\n",
              "      <td>1.4</td>\n",
              "      <td>0.2</td>\n",
              "      <td>setosa</td>\n",
              "    </tr>\n",
              "    <tr>\n",
              "      <th>2</th>\n",
              "      <td>4.7</td>\n",
              "      <td>3.2</td>\n",
              "      <td>1.3</td>\n",
              "      <td>0.2</td>\n",
              "      <td>setosa</td>\n",
              "    </tr>\n",
              "    <tr>\n",
              "      <th>3</th>\n",
              "      <td>4.6</td>\n",
              "      <td>3.1</td>\n",
              "      <td>1.5</td>\n",
              "      <td>0.2</td>\n",
              "      <td>setosa</td>\n",
              "    </tr>\n",
              "    <tr>\n",
              "      <th>4</th>\n",
              "      <td>5.0</td>\n",
              "      <td>3.6</td>\n",
              "      <td>1.4</td>\n",
              "      <td>0.2</td>\n",
              "      <td>setosa</td>\n",
              "    </tr>\n",
              "  </tbody>\n",
              "</table>\n",
              "</div>\n",
              "    <div class=\"colab-df-buttons\">\n",
              "\n",
              "  <div class=\"colab-df-container\">\n",
              "    <button class=\"colab-df-convert\" onclick=\"convertToInteractive('df-828b9e4e-14b2-4d45-a33b-a8d2ac34d4f3')\"\n",
              "            title=\"Convert this dataframe to an interactive table.\"\n",
              "            style=\"display:none;\">\n",
              "\n",
              "  <svg xmlns=\"http://www.w3.org/2000/svg\" height=\"24px\" viewBox=\"0 -960 960 960\">\n",
              "    <path d=\"M120-120v-720h720v720H120Zm60-500h600v-160H180v160Zm220 220h160v-160H400v160Zm0 220h160v-160H400v160ZM180-400h160v-160H180v160Zm440 0h160v-160H620v160ZM180-180h160v-160H180v160Zm440 0h160v-160H620v160Z\"/>\n",
              "  </svg>\n",
              "    </button>\n",
              "\n",
              "  <style>\n",
              "    .colab-df-container {\n",
              "      display:flex;\n",
              "      gap: 12px;\n",
              "    }\n",
              "\n",
              "    .colab-df-convert {\n",
              "      background-color: #E8F0FE;\n",
              "      border: none;\n",
              "      border-radius: 50%;\n",
              "      cursor: pointer;\n",
              "      display: none;\n",
              "      fill: #1967D2;\n",
              "      height: 32px;\n",
              "      padding: 0 0 0 0;\n",
              "      width: 32px;\n",
              "    }\n",
              "\n",
              "    .colab-df-convert:hover {\n",
              "      background-color: #E2EBFA;\n",
              "      box-shadow: 0px 1px 2px rgba(60, 64, 67, 0.3), 0px 1px 3px 1px rgba(60, 64, 67, 0.15);\n",
              "      fill: #174EA6;\n",
              "    }\n",
              "\n",
              "    .colab-df-buttons div {\n",
              "      margin-bottom: 4px;\n",
              "    }\n",
              "\n",
              "    [theme=dark] .colab-df-convert {\n",
              "      background-color: #3B4455;\n",
              "      fill: #D2E3FC;\n",
              "    }\n",
              "\n",
              "    [theme=dark] .colab-df-convert:hover {\n",
              "      background-color: #434B5C;\n",
              "      box-shadow: 0px 1px 3px 1px rgba(0, 0, 0, 0.15);\n",
              "      filter: drop-shadow(0px 1px 2px rgba(0, 0, 0, 0.3));\n",
              "      fill: #FFFFFF;\n",
              "    }\n",
              "  </style>\n",
              "\n",
              "    <script>\n",
              "      const buttonEl =\n",
              "        document.querySelector('#df-828b9e4e-14b2-4d45-a33b-a8d2ac34d4f3 button.colab-df-convert');\n",
              "      buttonEl.style.display =\n",
              "        google.colab.kernel.accessAllowed ? 'block' : 'none';\n",
              "\n",
              "      async function convertToInteractive(key) {\n",
              "        const element = document.querySelector('#df-828b9e4e-14b2-4d45-a33b-a8d2ac34d4f3');\n",
              "        const dataTable =\n",
              "          await google.colab.kernel.invokeFunction('convertToInteractive',\n",
              "                                                    [key], {});\n",
              "        if (!dataTable) return;\n",
              "\n",
              "        const docLinkHtml = 'Like what you see? Visit the ' +\n",
              "          '<a target=\"_blank\" href=https://colab.research.google.com/notebooks/data_table.ipynb>data table notebook</a>'\n",
              "          + ' to learn more about interactive tables.';\n",
              "        element.innerHTML = '';\n",
              "        dataTable['output_type'] = 'display_data';\n",
              "        await google.colab.output.renderOutput(dataTable, element);\n",
              "        const docLink = document.createElement('div');\n",
              "        docLink.innerHTML = docLinkHtml;\n",
              "        element.appendChild(docLink);\n",
              "      }\n",
              "    </script>\n",
              "  </div>\n",
              "\n",
              "\n",
              "<div id=\"df-ee54f150-5ff8-46a4-ab8b-71e46ca7a7eb\">\n",
              "  <button class=\"colab-df-quickchart\" onclick=\"quickchart('df-ee54f150-5ff8-46a4-ab8b-71e46ca7a7eb')\"\n",
              "            title=\"Suggest charts\"\n",
              "            style=\"display:none;\">\n",
              "\n",
              "<svg xmlns=\"http://www.w3.org/2000/svg\" height=\"24px\"viewBox=\"0 0 24 24\"\n",
              "     width=\"24px\">\n",
              "    <g>\n",
              "        <path d=\"M19 3H5c-1.1 0-2 .9-2 2v14c0 1.1.9 2 2 2h14c1.1 0 2-.9 2-2V5c0-1.1-.9-2-2-2zM9 17H7v-7h2v7zm4 0h-2V7h2v10zm4 0h-2v-4h2v4z\"/>\n",
              "    </g>\n",
              "</svg>\n",
              "  </button>\n",
              "\n",
              "<style>\n",
              "  .colab-df-quickchart {\n",
              "      --bg-color: #E8F0FE;\n",
              "      --fill-color: #1967D2;\n",
              "      --hover-bg-color: #E2EBFA;\n",
              "      --hover-fill-color: #174EA6;\n",
              "      --disabled-fill-color: #AAA;\n",
              "      --disabled-bg-color: #DDD;\n",
              "  }\n",
              "\n",
              "  [theme=dark] .colab-df-quickchart {\n",
              "      --bg-color: #3B4455;\n",
              "      --fill-color: #D2E3FC;\n",
              "      --hover-bg-color: #434B5C;\n",
              "      --hover-fill-color: #FFFFFF;\n",
              "      --disabled-bg-color: #3B4455;\n",
              "      --disabled-fill-color: #666;\n",
              "  }\n",
              "\n",
              "  .colab-df-quickchart {\n",
              "    background-color: var(--bg-color);\n",
              "    border: none;\n",
              "    border-radius: 50%;\n",
              "    cursor: pointer;\n",
              "    display: none;\n",
              "    fill: var(--fill-color);\n",
              "    height: 32px;\n",
              "    padding: 0;\n",
              "    width: 32px;\n",
              "  }\n",
              "\n",
              "  .colab-df-quickchart:hover {\n",
              "    background-color: var(--hover-bg-color);\n",
              "    box-shadow: 0 1px 2px rgba(60, 64, 67, 0.3), 0 1px 3px 1px rgba(60, 64, 67, 0.15);\n",
              "    fill: var(--button-hover-fill-color);\n",
              "  }\n",
              "\n",
              "  .colab-df-quickchart-complete:disabled,\n",
              "  .colab-df-quickchart-complete:disabled:hover {\n",
              "    background-color: var(--disabled-bg-color);\n",
              "    fill: var(--disabled-fill-color);\n",
              "    box-shadow: none;\n",
              "  }\n",
              "\n",
              "  .colab-df-spinner {\n",
              "    border: 2px solid var(--fill-color);\n",
              "    border-color: transparent;\n",
              "    border-bottom-color: var(--fill-color);\n",
              "    animation:\n",
              "      spin 1s steps(1) infinite;\n",
              "  }\n",
              "\n",
              "  @keyframes spin {\n",
              "    0% {\n",
              "      border-color: transparent;\n",
              "      border-bottom-color: var(--fill-color);\n",
              "      border-left-color: var(--fill-color);\n",
              "    }\n",
              "    20% {\n",
              "      border-color: transparent;\n",
              "      border-left-color: var(--fill-color);\n",
              "      border-top-color: var(--fill-color);\n",
              "    }\n",
              "    30% {\n",
              "      border-color: transparent;\n",
              "      border-left-color: var(--fill-color);\n",
              "      border-top-color: var(--fill-color);\n",
              "      border-right-color: var(--fill-color);\n",
              "    }\n",
              "    40% {\n",
              "      border-color: transparent;\n",
              "      border-right-color: var(--fill-color);\n",
              "      border-top-color: var(--fill-color);\n",
              "    }\n",
              "    60% {\n",
              "      border-color: transparent;\n",
              "      border-right-color: var(--fill-color);\n",
              "    }\n",
              "    80% {\n",
              "      border-color: transparent;\n",
              "      border-right-color: var(--fill-color);\n",
              "      border-bottom-color: var(--fill-color);\n",
              "    }\n",
              "    90% {\n",
              "      border-color: transparent;\n",
              "      border-bottom-color: var(--fill-color);\n",
              "    }\n",
              "  }\n",
              "</style>\n",
              "\n",
              "  <script>\n",
              "    async function quickchart(key) {\n",
              "      const quickchartButtonEl =\n",
              "        document.querySelector('#' + key + ' button');\n",
              "      quickchartButtonEl.disabled = true;  // To prevent multiple clicks.\n",
              "      quickchartButtonEl.classList.add('colab-df-spinner');\n",
              "      try {\n",
              "        const charts = await google.colab.kernel.invokeFunction(\n",
              "            'suggestCharts', [key], {});\n",
              "      } catch (error) {\n",
              "        console.error('Error during call to suggestCharts:', error);\n",
              "      }\n",
              "      quickchartButtonEl.classList.remove('colab-df-spinner');\n",
              "      quickchartButtonEl.classList.add('colab-df-quickchart-complete');\n",
              "    }\n",
              "    (() => {\n",
              "      let quickchartButtonEl =\n",
              "        document.querySelector('#df-ee54f150-5ff8-46a4-ab8b-71e46ca7a7eb button');\n",
              "      quickchartButtonEl.style.display =\n",
              "        google.colab.kernel.accessAllowed ? 'block' : 'none';\n",
              "    })();\n",
              "  </script>\n",
              "</div>\n",
              "\n",
              "    </div>\n",
              "  </div>\n"
            ],
            "application/vnd.google.colaboratory.intrinsic+json": {
              "type": "dataframe",
              "variable_name": "data",
              "summary": "{\n  \"name\": \"data\",\n  \"rows\": 150,\n  \"fields\": [\n    {\n      \"column\": \"sepal_length\",\n      \"properties\": {\n        \"dtype\": \"number\",\n        \"std\": 0.8280661279778629,\n        \"min\": 4.3,\n        \"max\": 7.9,\n        \"num_unique_values\": 35,\n        \"samples\": [\n          6.2,\n          4.5,\n          5.6\n        ],\n        \"semantic_type\": \"\",\n        \"description\": \"\"\n      }\n    },\n    {\n      \"column\": \"sepal_width\",\n      \"properties\": {\n        \"dtype\": \"number\",\n        \"std\": 0.435866284936698,\n        \"min\": 2.0,\n        \"max\": 4.4,\n        \"num_unique_values\": 23,\n        \"samples\": [\n          2.3,\n          4.0,\n          3.5\n        ],\n        \"semantic_type\": \"\",\n        \"description\": \"\"\n      }\n    },\n    {\n      \"column\": \"petal_length\",\n      \"properties\": {\n        \"dtype\": \"number\",\n        \"std\": 1.7652982332594667,\n        \"min\": 1.0,\n        \"max\": 6.9,\n        \"num_unique_values\": 43,\n        \"samples\": [\n          6.7,\n          3.8,\n          3.7\n        ],\n        \"semantic_type\": \"\",\n        \"description\": \"\"\n      }\n    },\n    {\n      \"column\": \"petal_width\",\n      \"properties\": {\n        \"dtype\": \"number\",\n        \"std\": 0.7622376689603465,\n        \"min\": 0.1,\n        \"max\": 2.5,\n        \"num_unique_values\": 22,\n        \"samples\": [\n          0.2,\n          1.2,\n          1.3\n        ],\n        \"semantic_type\": \"\",\n        \"description\": \"\"\n      }\n    },\n    {\n      \"column\": \"species\",\n      \"properties\": {\n        \"dtype\": \"category\",\n        \"num_unique_values\": 3,\n        \"samples\": [\n          \"setosa\",\n          \"versicolor\",\n          \"virginica\"\n        ],\n        \"semantic_type\": \"\",\n        \"description\": \"\"\n      }\n    }\n  ]\n}"
            }
          },
          "metadata": {},
          "execution_count": 3
        }
      ]
    },
    {
      "cell_type": "markdown",
      "source": [
        "DATA PREPROCESSING\n",
        "\n",
        "**Data Cleaning and Preprocessing**\n",
        "\n",
        "The dataset contains missing values and needs to be simplified for binary classification.\n",
        "\n",
        "1)**Handle missing values:**\n",
        "Specifically, we will fill missing values in columns like sepal_length and sepal_width with their respective means and handle any missing values in the species column by replacing them with 'Unknown'.\n",
        "\n",
        "2)**Select relevant features:**\n",
        " We will select sepal_length and sepal_width as features and create a binary target variable (species_binary) where the \"setosa\" species is labeled as 1 and others (e.g., \"versicolor\" and \"virginica\") as 0.\n",
        "\n",
        "3)**Normalize the features:**\n",
        " We will normalize the sepal_length and sepal_width columns for better performance in the perceptron model."
      ],
      "metadata": {
        "id": "hLLR3V7Bu4i-"
      }
    },
    {
      "cell_type": "code",
      "source": [
        "import pandas as pd\n",
        "\n",
        "# Load  dataset\n",
        "url = \"https://raw.githubusercontent.com/mwaskom/seaborn-data/master/iris.csv\"\n",
        "data = pd.read_csv(url)\n",
        "\n",
        "# Handle missing values\n",
        "data['sepal_length'].fillna(data['sepal_length'].mean(), inplace=True)\n",
        "data['sepal_width'].fillna(data['sepal_width'].mean(), inplace=True)\n",
        "data['species'].fillna('Unknown', inplace=True)\n",
        "\n",
        "# Binary classification\n",
        "data['species_binary'] = data['species'].apply(lambda x: 1 if x == \"setosa\" else 0)\n",
        "\n",
        "# Selecting features and target\n",
        "features = data[['sepal_length', 'sepal_width']]\n",
        "target = data['species_binary']\n",
        "\n",
        "# Normalization\n",
        "features = (features - features.min()) / (features.max() - features.min())\n",
        "\n",
        "print(\"Processed Features:\")\n",
        "print(features.head())\n",
        "print(\"\\nTarget:\")\n",
        "print(target.head())\n"
      ],
      "metadata": {
        "colab": {
          "base_uri": "https://localhost:8080/"
        },
        "id": "QaJwSCeLsLMa",
        "outputId": "5b264249-c397-4944-adfb-51b812f0033d"
      },
      "execution_count": null,
      "outputs": [
        {
          "output_type": "stream",
          "name": "stdout",
          "text": [
            "Processed Features:\n",
            "   sepal_length  sepal_width\n",
            "0      0.222222     0.625000\n",
            "1      0.166667     0.416667\n",
            "2      0.111111     0.500000\n",
            "3      0.083333     0.458333\n",
            "4      0.194444     0.666667\n",
            "\n",
            "Target:\n",
            "0    1\n",
            "1    1\n",
            "2    1\n",
            "3    1\n",
            "4    1\n",
            "Name: species_binary, dtype: int64\n"
          ]
        },
        {
          "output_type": "stream",
          "name": "stderr",
          "text": [
            "<ipython-input-4-830646eaec4b>:8: FutureWarning: A value is trying to be set on a copy of a DataFrame or Series through chained assignment using an inplace method.\n",
            "The behavior will change in pandas 3.0. This inplace method will never work because the intermediate object on which we are setting values always behaves as a copy.\n",
            "\n",
            "For example, when doing 'df[col].method(value, inplace=True)', try using 'df.method({col: value}, inplace=True)' or df[col] = df[col].method(value) instead, to perform the operation inplace on the original object.\n",
            "\n",
            "\n",
            "  data['sepal_length'].fillna(data['sepal_length'].mean(), inplace=True)\n",
            "<ipython-input-4-830646eaec4b>:9: FutureWarning: A value is trying to be set on a copy of a DataFrame or Series through chained assignment using an inplace method.\n",
            "The behavior will change in pandas 3.0. This inplace method will never work because the intermediate object on which we are setting values always behaves as a copy.\n",
            "\n",
            "For example, when doing 'df[col].method(value, inplace=True)', try using 'df.method({col: value}, inplace=True)' or df[col] = df[col].method(value) instead, to perform the operation inplace on the original object.\n",
            "\n",
            "\n",
            "  data['sepal_width'].fillna(data['sepal_width'].mean(), inplace=True)\n",
            "<ipython-input-4-830646eaec4b>:10: FutureWarning: A value is trying to be set on a copy of a DataFrame or Series through chained assignment using an inplace method.\n",
            "The behavior will change in pandas 3.0. This inplace method will never work because the intermediate object on which we are setting values always behaves as a copy.\n",
            "\n",
            "For example, when doing 'df[col].method(value, inplace=True)', try using 'df.method({col: value}, inplace=True)' or df[col] = df[col].method(value) instead, to perform the operation inplace on the original object.\n",
            "\n",
            "\n",
            "  data['species'].fillna('Unknown', inplace=True)\n"
          ]
        }
      ]
    },
    {
      "cell_type": "markdown",
      "source": [
        "PERCEPTRON IMPLEMENTATION FROM SCRATCH\n",
        "\n",
        "## Perceptron Implementation from Scratch\n",
        "\n",
        "The perceptron is implemented using the following steps:\n",
        "1. Initialize weights and bias.\n",
        "2. Compute the weighted sum and apply the step activation function.\n",
        "3. Update weights using the perceptron learning rule."
      ],
      "metadata": {
        "id": "GGp6wUcyvftI"
      }
    },
    {
      "cell_type": "code",
      "source": [
        "import numpy as np\n",
        "import pandas as pd\n",
        "from sklearn.model_selection import train_test_split\n",
        "from sklearn.metrics import accuracy_score\n",
        "\n",
        "#Dataset loading\n",
        "url = \"https://raw.githubusercontent.com/mwaskom/seaborn-data/master/iris.csv\"\n",
        "data = pd.read_csv(url)\n",
        "\n",
        "# Convert features and target to numpy arrays\n",
        "X = features.values\n",
        "y = target.values\n",
        "\n",
        "# Split into training and test sets\n",
        "X_train, X_test, y_train, y_test = train_test_split(X, y, test_size=0.2, random_state=42)\n",
        "\n",
        "# Perceptron class\n",
        "class Perceptron:\n",
        "    def __init__(self, learning_rate=0.01, epochs=100):\n",
        "        self.learning_rate = learning_rate\n",
        "        self.epochs = epochs\n",
        "        self.weights = None\n",
        "        self.bias = None\n",
        "        self.errors_ = []\n",
        "\n",
        "    def step_function(self, x):\n",
        "        return 1 if x >= 0 else 0\n",
        "\n",
        "    def fit(self, X, y):\n",
        "        n_samples, n_features = X.shape\n",
        "        self.weights = np.zeros(n_features)\n",
        "        self.bias = 0 #errors\n",
        "\n",
        "        for _ in range(self.epochs):\n",
        "            errors = 0\n",
        "            for idx, x_i in enumerate(X):\n",
        "                linear_output = np.dot(x_i, self.weights) + self.bias\n",
        "                y_pred = self.step_function(linear_output)\n",
        "                update = self.learning_rate * (y[idx] - y_pred)\n",
        "                self.weights += update * x_i\n",
        "                self.bias += update\n",
        "                errors += int(y[idx] != y_pred)  # Count misclassified\n",
        "            self.errors_.append(errors)\n",
        "\n",
        "    def predict(self, X):\n",
        "        linear_output = np.dot(X, self.weights) + self.bias\n",
        "        return np.array([self.step_function(x) for x in linear_output])\n",
        "\n",
        "# Training\n",
        "perceptron = Perceptron(learning_rate=0.01, epochs=100)\n",
        "perceptron.fit(X_train, y_train)\n",
        "\n",
        "# Prediction\n",
        "y_pred = perceptron.predict(X_test)\n",
        "\n",
        "# Accuracy\n",
        "print(\"Accuracy (from scratch):\", accuracy_score(y_test, y_pred))\n"
      ],
      "metadata": {
        "colab": {
          "base_uri": "https://localhost:8080/"
        },
        "id": "Y1AXsq07sbxX",
        "outputId": "a8d26e70-6d74-4fe3-80f2-8a25231ebcbe"
      },
      "execution_count": null,
      "outputs": [
        {
          "output_type": "stream",
          "name": "stdout",
          "text": [
            "Accuracy (from scratch): 1.0\n"
          ]
        }
      ]
    },
    {
      "cell_type": "markdown",
      "source": [
        "PERCEPTRON IMPLEMENTATION USING SCIKIT LEARN"
      ],
      "metadata": {
        "id": "TkxwT2Zuvm-D"
      }
    },
    {
      "cell_type": "code",
      "source": [
        "from sklearn.linear_model import Perceptron as SklearnPerceptron\n",
        "from sklearn.metrics import accuracy_score\n",
        "\n",
        "# Training using Scikit-learn\n",
        "sklearn_perceptron = SklearnPerceptron(max_iter=1000, eta0=0.01, random_state=42)\n",
        "sklearn_perceptron.fit(X_train, y_train)\n",
        "\n",
        "# Prediction\n",
        "y_pred_sklearn = sklearn_perceptron.predict(X_test)\n",
        "\n",
        "# Accuracy\n",
        "print(\"Accuracy (Scikit-learn):\", accuracy_score(y_test, y_pred_sklearn))\n"
      ],
      "metadata": {
        "colab": {
          "base_uri": "https://localhost:8080/"
        },
        "id": "f41qc5QTswvh",
        "outputId": "9dd60512-d9a2-4f05-ea68-e43e86b263fa"
      },
      "execution_count": null,
      "outputs": [
        {
          "output_type": "stream",
          "name": "stdout",
          "text": [
            "Accuracy (Scikit-learn): 1.0\n"
          ]
        }
      ]
    },
    {
      "cell_type": "markdown",
      "source": [
        "EVALUATION AND VISUALIZATION"
      ],
      "metadata": {
        "id": "QOnbH6LMvviR"
      }
    },
    {
      "cell_type": "code",
      "source": [
        "import matplotlib.pyplot as plt\n",
        "\n",
        "# Training Perceptron\n",
        "perceptron = Perceptron(learning_rate=0.01, epochs=100)\n",
        "perceptron.fit(X_train, y_train)\n",
        "\n",
        "# Ploting\n",
        "plt.plot(range(1, len(perceptron.errors_) + 1), perceptron.errors_)\n",
        "plt.title(\"Error Reduction Over Iterations\")\n",
        "plt.xlabel(\"Epochs\")\n",
        "plt.ylabel(\"Number of Errors\")\n",
        "plt.grid(True)\n",
        "plt.show()\n"
      ],
      "metadata": {
        "colab": {
          "base_uri": "https://localhost:8080/",
          "height": 472
        },
        "id": "Lnq0gPSXs0I6",
        "outputId": "259a48d1-e84d-4c8d-9301-b8f6b2ea2f9c"
      },
      "execution_count": null,
      "outputs": [
        {
          "output_type": "display_data",
          "data": {
            "text/plain": [
              "<Figure size 640x480 with 1 Axes>"
            ],
            "image/png": "[encoded data removed]"
          },
          "metadata": {}
        }
      ]
    },
    {
      "cell_type": "markdown",
      "source": [
        "# Perceptron Model for Binary Classification\n",
        "This notebook demonstrates the implementation of a perceptron model for a binary classification problem using the Penguins dataset. A perceptron is a fundamental unit of a neural network that classifies data points by learning a linear decision boundary. The dataset used for this task includes features like Bill Length (mm) and Flipper Length (mm), with the target variable being Species. This binary classification, focuses on classifying \"Adelie\" penguins versus \"non-Adelie\" penguins.\n",
        "\n",
        "#Dataset Description\n",
        "The Penguins dataset contains information about penguins, including their species, bill length, and flipper length. Here, we focus on:\n",
        "\n",
        "Features: Bill Length (mm) (length of the penguins' bills) and Flipper Length (mm) (length of the penguins' flippers). Target: Species (1 for \"Adelie\", 0 for \"non-Adelie\")."
      ],
      "metadata": {
        "id": "JA2AbExxtRs0"
      }
    },
    {
      "cell_type": "code",
      "execution_count": null,
      "metadata": {
        "id": "cPtOaN362aDh",
        "colab": {
          "base_uri": "https://localhost:8080/",
          "height": 206
        },
        "outputId": "c69dcc54-b6f7-469a-cbe6-ed9c0d3bf306"
      },
      "outputs": [
        {
          "output_type": "execute_result",
          "data": {
            "text/plain": [
              "  species     island  bill_length_mm  bill_depth_mm  flipper_length_mm  \\\n",
              "0  Adelie  Torgersen            39.1           18.7              181.0   \n",
              "1  Adelie  Torgersen            39.5           17.4              186.0   \n",
              "2  Adelie  Torgersen            40.3           18.0              195.0   \n",
              "3  Adelie  Torgersen             NaN            NaN                NaN   \n",
              "4  Adelie  Torgersen            36.7           19.3              193.0   \n",
              "\n",
              "   body_mass_g     sex  \n",
              "0       3750.0    MALE  \n",
              "1       3800.0  FEMALE  \n",
              "2       3250.0  FEMALE  \n",
              "3          NaN     NaN  \n",
              "4       3450.0  FEMALE  "
            ],
            "text/html": [
              "\n",
              "  <div id=\"df-9c5583f6-245f-42e2-ac24-21914c50ed56\" class=\"colab-df-container\">\n",
              "    <div>\n",
              "<style scoped>\n",
              "    .dataframe tbody tr th:only-of-type {\n",
              "        vertical-align: middle;\n",
              "    }\n",
              "\n",
              "    .dataframe tbody tr th {\n",
              "        vertical-align: top;\n",
              "    }\n",
              "\n",
              "    .dataframe thead th {\n",
              "        text-align: right;\n",
              "    }\n",
              "</style>\n",
              "<table border=\"1\" class=\"dataframe\">\n",
              "  <thead>\n",
              "    <tr style=\"text-align: right;\">\n",
              "      <th></th>\n",
              "      <th>species</th>\n",
              "      <th>island</th>\n",
              "      <th>bill_length_mm</th>\n",
              "      <th>bill_depth_mm</th>\n",
              "      <th>flipper_length_mm</th>\n",
              "      <th>body_mass_g</th>\n",
              "      <th>sex</th>\n",
              "    </tr>\n",
              "  </thead>\n",
              "  <tbody>\n",
              "    <tr>\n",
              "      <th>0</th>\n",
              "      <td>Adelie</td>\n",
              "      <td>Torgersen</td>\n",
              "      <td>39.1</td>\n",
              "      <td>18.7</td>\n",
              "      <td>181.0</td>\n",
              "      <td>3750.0</td>\n",
              "      <td>MALE</td>\n",
              "    </tr>\n",
              "    <tr>\n",
              "      <th>1</th>\n",
              "      <td>Adelie</td>\n",
              "      <td>Torgersen</td>\n",
              "      <td>39.5</td>\n",
              "      <td>17.4</td>\n",
              "      <td>186.0</td>\n",
              "      <td>3800.0</td>\n",
              "      <td>FEMALE</td>\n",
              "    </tr>\n",
              "    <tr>\n",
              "      <th>2</th>\n",
              "      <td>Adelie</td>\n",
              "      <td>Torgersen</td>\n",
              "      <td>40.3</td>\n",
              "      <td>18.0</td>\n",
              "      <td>195.0</td>\n",
              "      <td>3250.0</td>\n",
              "      <td>FEMALE</td>\n",
              "    </tr>\n",
              "    <tr>\n",
              "      <th>3</th>\n",
              "      <td>Adelie</td>\n",
              "      <td>Torgersen</td>\n",
              "      <td>NaN</td>\n",
              "      <td>NaN</td>\n",
              "      <td>NaN</td>\n",
              "      <td>NaN</td>\n",
              "      <td>NaN</td>\n",
              "    </tr>\n",
              "    <tr>\n",
              "      <th>4</th>\n",
              "      <td>Adelie</td>\n",
              "      <td>Torgersen</td>\n",
              "      <td>36.7</td>\n",
              "      <td>19.3</td>\n",
              "      <td>193.0</td>\n",
              "      <td>3450.0</td>\n",
              "      <td>FEMALE</td>\n",
              "    </tr>\n",
              "  </tbody>\n",
              "</table>\n",
              "</div>\n",
              "    <div class=\"colab-df-buttons\">\n",
              "\n",
              "  <div class=\"colab-df-container\">\n",
              "    <button class=\"colab-df-convert\" onclick=\"convertToInteractive('df-9c5583f6-245f-42e2-ac24-21914c50ed56')\"\n",
              "            title=\"Convert this dataframe to an interactive table.\"\n",
              "            style=\"display:none;\">\n",
              "\n",
              "  <svg xmlns=\"http://www.w3.org/2000/svg\" height=\"24px\" viewBox=\"0 -960 960 960\">\n",
              "    <path d=\"M120-120v-720h720v720H120Zm60-500h600v-160H180v160Zm220 220h160v-160H400v160Zm0 220h160v-160H400v160ZM180-400h160v-160H180v160Zm440 0h160v-160H620v160ZM180-180h160v-160H180v160Zm440 0h160v-160H620v160Z\"/>\n",
              "  </svg>\n",
              "    </button>\n",
              "\n",
              "  <style>\n",
              "    .colab-df-container {\n",
              "      display:flex;\n",
              "      gap: 12px;\n",
              "    }\n",
              "\n",
              "    .colab-df-convert {\n",
              "      background-color: #E8F0FE;\n",
              "      border: none;\n",
              "      border-radius: 50%;\n",
              "      cursor: pointer;\n",
              "      display: none;\n",
              "      fill: #1967D2;\n",
              "      height: 32px;\n",
              "      padding: 0 0 0 0;\n",
              "      width: 32px;\n",
              "    }\n",
              "\n",
              "    .colab-df-convert:hover {\n",
              "      background-color: #E2EBFA;\n",
              "      box-shadow: 0px 1px 2px rgba(60, 64, 67, 0.3), 0px 1px 3px 1px rgba(60, 64, 67, 0.15);\n",
              "      fill: #174EA6;\n",
              "    }\n",
              "\n",
              "    .colab-df-buttons div {\n",
              "      margin-bottom: 4px;\n",
              "    }\n",
              "\n",
              "    [theme=dark] .colab-df-convert {\n",
              "      background-color: #3B4455;\n",
              "      fill: #D2E3FC;\n",
              "    }\n",
              "\n",
              "    [theme=dark] .colab-df-convert:hover {\n",
              "      background-color: #434B5C;\n",
              "      box-shadow: 0px 1px 3px 1px rgba(0, 0, 0, 0.15);\n",
              "      filter: drop-shadow(0px 1px 2px rgba(0, 0, 0, 0.3));\n",
              "      fill: #FFFFFF;\n",
              "    }\n",
              "  </style>\n",
              "\n",
              "    <script>\n",
              "      const buttonEl =\n",
              "        document.querySelector('#df-9c5583f6-245f-42e2-ac24-21914c50ed56 button.colab-df-convert');\n",
              "      buttonEl.style.display =\n",
              "        google.colab.kernel.accessAllowed ? 'block' : 'none';\n",
              "\n",
              "      async function convertToInteractive(key) {\n",
              "        const element = document.querySelector('#df-9c5583f6-245f-42e2-ac24-21914c50ed56');\n",
              "        const dataTable =\n",
              "          await google.colab.kernel.invokeFunction('convertToInteractive',\n",
              "                                                    [key], {});\n",
              "        if (!dataTable) return;\n",
              "\n",
              "        const docLinkHtml = 'Like what you see? Visit the ' +\n",
              "          '<a target=\"_blank\" href=https://colab.research.google.com/notebooks/data_table.ipynb>data table notebook</a>'\n",
              "          + ' to learn more about interactive tables.';\n",
              "        element.innerHTML = '';\n",
              "        dataTable['output_type'] = 'display_data';\n",
              "        await google.colab.output.renderOutput(dataTable, element);\n",
              "        const docLink = document.createElement('div');\n",
              "        docLink.innerHTML = docLinkHtml;\n",
              "        element.appendChild(docLink);\n",
              "      }\n",
              "    </script>\n",
              "  </div>\n",
              "\n",
              "\n",
              "<div id=\"df-b5e4cf1f-b864-45c1-a623-ecee5291e076\">\n",
              "  <button class=\"colab-df-quickchart\" onclick=\"quickchart('df-b5e4cf1f-b864-45c1-a623-ecee5291e076')\"\n",
              "            title=\"Suggest charts\"\n",
              "            style=\"display:none;\">\n",
              "\n",
              "<svg xmlns=\"http://www.w3.org/2000/svg\" height=\"24px\"viewBox=\"0 0 24 24\"\n",
              "     width=\"24px\">\n",
              "    <g>\n",
              "        <path d=\"M19 3H5c-1.1 0-2 .9-2 2v14c0 1.1.9 2 2 2h14c1.1 0 2-.9 2-2V5c0-1.1-.9-2-2-2zM9 17H7v-7h2v7zm4 0h-2V7h2v10zm4 0h-2v-4h2v4z\"/>\n",
              "    </g>\n",
              "</svg>\n",
              "  </button>\n",
              "\n",
              "<style>\n",
              "  .colab-df-quickchart {\n",
              "      --bg-color: #E8F0FE;\n",
              "      --fill-color: #1967D2;\n",
              "      --hover-bg-color: #E2EBFA;\n",
              "      --hover-fill-color: #174EA6;\n",
              "      --disabled-fill-color: #AAA;\n",
              "      --disabled-bg-color: #DDD;\n",
              "  }\n",
              "\n",
              "  [theme=dark] .colab-df-quickchart {\n",
              "      --bg-color: #3B4455;\n",
              "      --fill-color: #D2E3FC;\n",
              "      --hover-bg-color: #434B5C;\n",
              "      --hover-fill-color: #FFFFFF;\n",
              "      --disabled-bg-color: #3B4455;\n",
              "      --disabled-fill-color: #666;\n",
              "  }\n",
              "\n",
              "  .colab-df-quickchart {\n",
              "    background-color: var(--bg-color);\n",
              "    border: none;\n",
              "    border-radius: 50%;\n",
              "    cursor: pointer;\n",
              "    display: none;\n",
              "    fill: var(--fill-color);\n",
              "    height: 32px;\n",
              "    padding: 0;\n",
              "    width: 32px;\n",
              "  }\n",
              "\n",
              "  .colab-df-quickchart:hover {\n",
              "    background-color: var(--hover-bg-color);\n",
              "    box-shadow: 0 1px 2px rgba(60, 64, 67, 0.3), 0 1px 3px 1px rgba(60, 64, 67, 0.15);\n",
              "    fill: var(--button-hover-fill-color);\n",
              "  }\n",
              "\n",
              "  .colab-df-quickchart-complete:disabled,\n",
              "  .colab-df-quickchart-complete:disabled:hover {\n",
              "    background-color: var(--disabled-bg-color);\n",
              "    fill: var(--disabled-fill-color);\n",
              "    box-shadow: none;\n",
              "  }\n",
              "\n",
              "  .colab-df-spinner {\n",
              "    border: 2px solid var(--fill-color);\n",
              "    border-color: transparent;\n",
              "    border-bottom-color: var(--fill-color);\n",
              "    animation:\n",
              "      spin 1s steps(1) infinite;\n",
              "  }\n",
              "\n",
              "  @keyframes spin {\n",
              "    0% {\n",
              "      border-color: transparent;\n",
              "      border-bottom-color: var(--fill-color);\n",
              "      border-left-color: var(--fill-color);\n",
              "    }\n",
              "    20% {\n",
              "      border-color: transparent;\n",
              "      border-left-color: var(--fill-color);\n",
              "      border-top-color: var(--fill-color);\n",
              "    }\n",
              "    30% {\n",
              "      border-color: transparent;\n",
              "      border-left-color: var(--fill-color);\n",
              "      border-top-color: var(--fill-color);\n",
              "      border-right-color: var(--fill-color);\n",
              "    }\n",
              "    40% {\n",
              "      border-color: transparent;\n",
              "      border-right-color: var(--fill-color);\n",
              "      border-top-color: var(--fill-color);\n",
              "    }\n",
              "    60% {\n",
              "      border-color: transparent;\n",
              "      border-right-color: var(--fill-color);\n",
              "    }\n",
              "    80% {\n",
              "      border-color: transparent;\n",
              "      border-right-color: var(--fill-color);\n",
              "      border-bottom-color: var(--fill-color);\n",
              "    }\n",
              "    90% {\n",
              "      border-color: transparent;\n",
              "      border-bottom-color: var(--fill-color);\n",
              "    }\n",
              "  }\n",
              "</style>\n",
              "\n",
              "  <script>\n",
              "    async function quickchart(key) {\n",
              "      const quickchartButtonEl =\n",
              "        document.querySelector('#' + key + ' button');\n",
              "      quickchartButtonEl.disabled = true;  // To prevent multiple clicks.\n",
              "      quickchartButtonEl.classList.add('colab-df-spinner');\n",
              "      try {\n",
              "        const charts = await google.colab.kernel.invokeFunction(\n",
              "            'suggestCharts', [key], {});\n",
              "      } catch (error) {\n",
              "        console.error('Error during call to suggestCharts:', error);\n",
              "      }\n",
              "      quickchartButtonEl.classList.remove('colab-df-spinner');\n",
              "      quickchartButtonEl.classList.add('colab-df-quickchart-complete');\n",
              "    }\n",
              "    (() => {\n",
              "      let quickchartButtonEl =\n",
              "        document.querySelector('#df-b5e4cf1f-b864-45c1-a623-ecee5291e076 button');\n",
              "      quickchartButtonEl.style.display =\n",
              "        google.colab.kernel.accessAllowed ? 'block' : 'none';\n",
              "    })();\n",
              "  </script>\n",
              "</div>\n",
              "\n",
              "    </div>\n",
              "  </div>\n"
            ],
            "application/vnd.google.colaboratory.intrinsic+json": {
              "type": "dataframe",
              "variable_name": "data",
              "summary": "{\n  \"name\": \"data\",\n  \"rows\": 344,\n  \"fields\": [\n    {\n      \"column\": \"species\",\n      \"properties\": {\n        \"dtype\": \"category\",\n        \"num_unique_values\": 3,\n        \"samples\": [\n          \"Adelie\",\n          \"Chinstrap\",\n          \"Gentoo\"\n        ],\n        \"semantic_type\": \"\",\n        \"description\": \"\"\n      }\n    },\n    {\n      \"column\": \"island\",\n      \"properties\": {\n        \"dtype\": \"category\",\n        \"num_unique_values\": 3,\n        \"samples\": [\n          \"Torgersen\",\n          \"Biscoe\",\n          \"Dream\"\n        ],\n        \"semantic_type\": \"\",\n        \"description\": \"\"\n      }\n    },\n    {\n      \"column\": \"bill_length_mm\",\n      \"properties\": {\n        \"dtype\": \"number\",\n        \"std\": 5.459583713926532,\n        \"min\": 32.1,\n        \"max\": 59.6,\n        \"num_unique_values\": 164,\n        \"samples\": [\n          48.2,\n          49.8,\n          45.1\n        ],\n        \"semantic_type\": \"\",\n        \"description\": \"\"\n      }\n    },\n    {\n      \"column\": \"bill_depth_mm\",\n      \"properties\": {\n        \"dtype\": \"number\",\n        \"std\": 1.9747931568167816,\n        \"min\": 13.1,\n        \"max\": 21.5,\n        \"num_unique_values\": 80,\n        \"samples\": [\n          16.9,\n          18.7,\n          18.6\n        ],\n        \"semantic_type\": \"\",\n        \"description\": \"\"\n      }\n    },\n    {\n      \"column\": \"flipper_length_mm\",\n      \"properties\": {\n        \"dtype\": \"number\",\n        \"std\": 14.061713679356894,\n        \"min\": 172.0,\n        \"max\": 231.0,\n        \"num_unique_values\": 55,\n        \"samples\": [\n          201.0,\n          180.0,\n          212.0\n        ],\n        \"semantic_type\": \"\",\n        \"description\": \"\"\n      }\n    },\n    {\n      \"column\": \"body_mass_g\",\n      \"properties\": {\n        \"dtype\": \"number\",\n        \"std\": 801.9545356980954,\n        \"min\": 2700.0,\n        \"max\": 6300.0,\n        \"num_unique_values\": 94,\n        \"samples\": [\n          4350.0,\n          4150.0,\n          3525.0\n        ],\n        \"semantic_type\": \"\",\n        \"description\": \"\"\n      }\n    },\n    {\n      \"column\": \"sex\",\n      \"properties\": {\n        \"dtype\": \"category\",\n        \"num_unique_values\": 2,\n        \"samples\": [\n          \"FEMALE\",\n          \"MALE\"\n        ],\n        \"semantic_type\": \"\",\n        \"description\": \"\"\n      }\n    }\n  ]\n}"
            }
          },
          "metadata": {},
          "execution_count": 1
        }
      ],
      "source": [
        "import pandas as pd\n",
        "import numpy as np\n",
        "\n",
        "#  Load the Penguins dataset\n",
        "url = \"https://raw.githubusercontent.com/mwaskom/seaborn-data/master/penguins.csv\"\n",
        "data = pd.read_csv(url)\n",
        "\n",
        "#  The first few rows\n",
        "data.head()\n"
      ]
    },
    {
      "cell_type": "markdown",
      "source": [
        "DATA PREPROCESSING\n",
        "\n",
        "## Data Cleaning and Preprocessing\n",
        "\n",
        "The dataset contains missing values, irrelevant columns, and needs to be simplified for binary classification. We will:\n",
        "\n",
        "1)Handle missing values: Specifically, we will fill missing values in columns like bill_length_mm and bill_depth_mm with their respective means and handle any missing values in the species column by replacing them with 'Unknown'.\n",
        "\n",
        "2)Select relevant features: We will select bill_length_mm and bill_depth_mm as features and create a binary target variable (species_binary) where \"Adelie\" species is labeled as 1 and others as 0.\n",
        "\n",
        "3)Normalize the features: We will normalize the bill_length_mm and bill_depth_mm columns for better performance in the perceptron model.\n",
        "\n"
      ],
      "metadata": {
        "id": "e6OFczLY5oSi"
      }
    },
    {
      "cell_type": "code",
      "source": [
        "# Handle missing values\n",
        "data['bill_length_mm'].fillna(data['bill_length_mm'].mean(), inplace=True)\n",
        "data['bill_depth_mm'].fillna(data['bill_depth_mm'].mean(), inplace=True)\n",
        "data['species'].fillna('Unknown', inplace=True)\n",
        "# Binary classification\n",
        "data['species_binary'] = data['species'].apply(lambda x: 1 if x == \"Adelie\" else 0)\n",
        "\n",
        "# Selecting features and target\n",
        "features = data[['bill_length_mm', 'bill_depth_mm']]\n",
        "target = data['species_binary']\n",
        "\n",
        "# Normalization\n",
        "features = (features - features.min()) / (features.max() - features.min())\n",
        "\n",
        "print(\"Processed Features:\")\n",
        "print(features.head())\n",
        "print(\"\\nTarget:\")\n",
        "print(target.head())"
      ],
      "metadata": {
        "id": "vV8vdosi5hoB",
        "colab": {
          "base_uri": "https://localhost:8080/"
        },
        "outputId": "5013cf25-7d27-42a6-d8ae-a0ebf5b3edca"
      },
      "execution_count": null,
      "outputs": [
        {
          "output_type": "stream",
          "name": "stdout",
          "text": [
            "Processed Features:\n",
            "   bill_length_mm  bill_depth_mm\n",
            "0        0.254545       0.666667\n",
            "1        0.269091       0.511905\n",
            "2        0.298182       0.583333\n",
            "3        0.429888       0.482282\n",
            "4        0.167273       0.738095\n",
            "\n",
            "Target:\n",
            "0    1\n",
            "1    1\n",
            "2    1\n",
            "3    1\n",
            "4    1\n",
            "Name: species_binary, dtype: int64\n"
          ]
        },
        {
          "output_type": "stream",
          "name": "stderr",
          "text": [
            "<ipython-input-8-a5536f9d2536>:2: FutureWarning: A value is trying to be set on a copy of a DataFrame or Series through chained assignment using an inplace method.\n",
            "The behavior will change in pandas 3.0. This inplace method will never work because the intermediate object on which we are setting values always behaves as a copy.\n",
            "\n",
            "For example, when doing 'df[col].method(value, inplace=True)', try using 'df.method({col: value}, inplace=True)' or df[col] = df[col].method(value) instead, to perform the operation inplace on the original object.\n",
            "\n",
            "\n",
            "  data['bill_length_mm'].fillna(data['bill_length_mm'].mean(), inplace=True)\n",
            "<ipython-input-8-a5536f9d2536>:3: FutureWarning: A value is trying to be set on a copy of a DataFrame or Series through chained assignment using an inplace method.\n",
            "The behavior will change in pandas 3.0. This inplace method will never work because the intermediate object on which we are setting values always behaves as a copy.\n",
            "\n",
            "For example, when doing 'df[col].method(value, inplace=True)', try using 'df.method({col: value}, inplace=True)' or df[col] = df[col].method(value) instead, to perform the operation inplace on the original object.\n",
            "\n",
            "\n",
            "  data['bill_depth_mm'].fillna(data['bill_depth_mm'].mean(), inplace=True)\n"
          ]
        }
      ]
    },
    {
      "cell_type": "markdown",
      "source": [
        "PERCEPTRON IMPLEMENTATION FROM SCRATCH\n",
        "\n",
        "## Perceptron Implementation from Scratch\n",
        "\n",
        "The perceptron is implemented using the following steps:\n",
        "1. Initialize weights and bias.\n",
        "2. Compute the weighted sum and apply the step activation function.\n",
        "3. Update weights using the perceptron learning rule.\n"
      ],
      "metadata": {
        "id": "IuaTRPoh59CO"
      }
    },
    {
      "cell_type": "code",
      "source": [
        "class Perceptron:\n",
        "    def __init__(self, learning_rate=0.01, epochs=100):\n",
        "        self.learning_rate = learning_rate\n",
        "        self.epochs = epochs\n",
        "        self.weights = None\n",
        "        self.bias = None\n",
        "        self.errors_ = []  # Initialize error\n",
        "\n",
        "    def step_function(self, x):\n",
        "        return 1 if x >= 0 else 0\n",
        "\n",
        "    def fit(self, X, y):\n",
        "        n_samples, n_features = X.shape\n",
        "        self.weights = np.zeros(n_features)\n",
        "        self.bias = 0\n",
        "\n",
        "        for _ in range(self.epochs):\n",
        "            errors = 0\n",
        "            for idx, x_i in enumerate(X):\n",
        "                linear_output = np.dot(x_i, self.weights) + self.bias\n",
        "                y_pred = self.step_function(linear_output)\n",
        "                update = self.learning_rate * (y[idx] - y_pred)\n",
        "                self.weights += update * x_i\n",
        "                self.bias += update\n",
        "                errors += int(y[idx] != y_pred)\n",
        "            self.errors_.append(errors)\n",
        "\n",
        "    def predict(self, X):\n",
        "        linear_output = np.dot(X, self.weights) + self.bias\n",
        "        return np.array([self.step_function(x) for x in linear_output])\n",
        "\n",
        "\n",
        "# Convert features and target\n",
        "X = features.values\n",
        "y = target.values\n",
        "\n",
        "# Spliting\n",
        "from sklearn.model_selection import train_test_split\n",
        "X_train, X_test, y_train, y_test = train_test_split(X, y, test_size=0.2, random_state=42)\n",
        "\n",
        "# Training\n",
        "perceptron = Perceptron(learning_rate=0.01, epochs=100)\n",
        "perceptron.fit(X_train, y_train)\n",
        "\n",
        "# Prediction\n",
        "y_pred = perceptron.predict(X_test)\n",
        "\n",
        "# Accuracy\n",
        "from sklearn.metrics import accuracy_score\n",
        "print(\"Accuracy (from scratch):\", accuracy_score(y_test, y_pred))\n"
      ],
      "metadata": {
        "id": "y4X35AdH57-b",
        "colab": {
          "base_uri": "https://localhost:8080/"
        },
        "outputId": "3029ead2-f7f2-4587-d903-f5c684da5618"
      },
      "execution_count": null,
      "outputs": [
        {
          "output_type": "stream",
          "name": "stdout",
          "text": [
            "Accuracy (from scratch): 0.9565217391304348\n"
          ]
        }
      ]
    },
    {
      "cell_type": "markdown",
      "source": [
        "PERCEPTRON IMPLEMENTATION USING SCIKIT LEARN"
      ],
      "metadata": {
        "id": "PbHYCEol6Vl-"
      }
    },
    {
      "cell_type": "code",
      "source": [
        "from sklearn.linear_model import Perceptron as SklearnPerceptron\n",
        "\n",
        "# Training using Scikit-learn\n",
        "sklearn_perceptron = SklearnPerceptron(max_iter=1000, eta0=0.01, random_state=42)\n",
        "sklearn_perceptron.fit(X_train, y_train)\n",
        "\n",
        "# Prediction\n",
        "y_pred_sklearn = sklearn_perceptron.predict(X_test)\n",
        "print(\"Accuracy (Scikit-learn):\", accuracy_score(y_test, y_pred_sklearn))"
      ],
      "metadata": {
        "id": "rnu0Zgh86O9a",
        "colab": {
          "base_uri": "https://localhost:8080/"
        },
        "outputId": "8ebffb80-e5c2-41ea-f792-0bc4dfb5de22"
      },
      "execution_count": null,
      "outputs": [
        {
          "output_type": "stream",
          "name": "stdout",
          "text": [
            "Accuracy (Scikit-learn): 0.9710144927536232\n"
          ]
        }
      ]
    },
    {
      "cell_type": "markdown",
      "source": [
        "EVALUATION AND VISUALIZATION"
      ],
      "metadata": {
        "id": "elsH29Sc6s_V"
      }
    },
    {
      "cell_type": "code",
      "source": [
        "# Training\n",
        "perceptron = Perceptron(learning_rate=0.01, epochs=100)\n",
        "perceptron.fit(X_train, y_train)\n",
        "\n",
        "# Ploting\n",
        "plt.plot(range(1, len(perceptron.errors_) + 1), perceptron.errors_)\n",
        "plt.title(\"Error Reduction Over Iterations\")\n",
        "plt.xlabel(\"Epochs\")\n",
        "plt.ylabel(\"Number of Errors\")\n",
        "plt.show()\n"
      ],
      "metadata": {
        "colab": {
          "base_uri": "https://localhost:8080/",
          "height": 472
        },
        "id": "5j-YI_b55AU3",
        "outputId": "d163ac5a-2d80-47a0-b86a-1d9563c8b1a0"
      },
      "execution_count": null,
      "outputs": [
        {
          "output_type": "display_data",
          "data": {
            "text/plain": [
              "<Figure size 640x480 with 1 Axes>"
            ],
            "image/png": "[encoded data removed]"
          },
          "metadata": {}
        }
      ]
    },
    {
      "cell_type": "markdown",
      "source": [
        "\n",
        "## Evaluation\n",
        "\n",
        "The perceptron achieved an accuracy of approximately 95% (from scratch) and 97% (Scikit-learn). The error reduction plot shows the decreasing error over iterations. However, the perceptron struggles with non-linearly separable data.\n"
      ],
      "metadata": {
        "id": "QrsdLW2Z63Lm"
      }
    },
    {
      "cell_type": "markdown",
      "source": [
        "# Perceptron Implementation for OR and AND Gates\n",
        "\n",
        "The Below cells demonstrates the perceptron model's application in binary classification using OR and AND logic gates. Each gate represents a simple linearly separable dataset, where:\n",
        "- OR gate outputs 1 if at least one input is 1.\n",
        "- AND gate outputs 1 only if both inputs are 1.\n",
        "\n",
        "The perceptron  is  implemented from scratch and evaluated for its performance.\n"
      ],
      "metadata": {
        "id": "zxn-mJwR7MH7"
      }
    },
    {
      "cell_type": "code",
      "source": [
        "import numpy as np\n",
        "\n",
        "# OR Gate Dataset\n",
        "X_or = np.array([[0, 0], [0, 1], [1, 0], [1, 1]])\n",
        "y_or = np.array([0, 1, 1, 1])  # Expected output\n",
        "\n",
        "# AND Gate Dataset\n",
        "X_and = np.array([[0, 0], [0, 1], [1, 0], [1, 1]])\n",
        "y_and = np.array([0, 0, 0, 1])"
      ],
      "metadata": {
        "id": "JlZQ-o527O91"
      },
      "execution_count": null,
      "outputs": []
    },
    {
      "cell_type": "markdown",
      "source": [
        "PERCEPTRON IMPLEMENTATTION\n",
        "\n",
        "## Perceptron Implementation\n",
        "\n",
        "The perceptron is implemented from scratch using the following steps:\n",
        "1. Initialize weights and bias.\n",
        "2. Compute the weighted sum of inputs and bias.\n",
        "3. Apply the step activation function to predict the output.\n",
        "4. Update weights and bias using the perceptron learning rule during training.\n"
      ],
      "metadata": {
        "id": "9JteyVC17Rjn"
      }
    },
    {
      "cell_type": "code",
      "source": [
        "class Perceptron:\n",
        "    def __init__(self, learning_rate=0.1, epochs=10):\n",
        "        self.learning_rate = learning_rate\n",
        "        self.epochs = epochs\n",
        "        self.weights = None\n",
        "        self.bias = None\n",
        "\n",
        "    def step_function(self, x):\n",
        "        return 1 if x >= 0 else 0\n",
        "\n",
        "    def fit(self, X, y):\n",
        "        n_samples, n_features = X.shape\n",
        "        self.weights = np.zeros(n_features)\n",
        "        self.bias = 0\n",
        "\n",
        "        for _ in range(self.epochs):\n",
        "            for idx, x_i in enumerate(X):\n",
        "                linear_output = np.dot(x_i, self.weights) + self.bias\n",
        "                y_pred = self.step_function(linear_output)\n",
        "                update = self.learning_rate * (y[idx] - y_pred)\n",
        "                self.weights += update * x_i\n",
        "                self.bias += update\n",
        "\n",
        "    def predict(self, X):\n",
        "        linear_output = np.dot(X, self.weights) + self.bias\n",
        "        return np.array([self.step_function(x) for x in linear_output])\n"
      ],
      "metadata": {
        "id": "wpBd292d7YgW"
      },
      "execution_count": null,
      "outputs": []
    },
    {
      "cell_type": "code",
      "source": [
        "# Training the perceptron for OR gate\n",
        "perceptron_or = Perceptron(learning_rate=0.1, epochs=10)\n",
        "perceptron_or.fit(X_or, y_or)\n",
        "\n",
        "# Prediction for OR gate\n",
        "y_pred_or = perceptron_or.predict(X_or)\n",
        "print(\"OR Gate Outputs:\", y_pred_or)\n"
      ],
      "metadata": {
        "id": "_1fa3RuM7eUr",
        "colab": {
          "base_uri": "https://localhost:8080/"
        },
        "outputId": "7a256eda-b51a-4e53-d6fd-45d58bd263c0"
      },
      "execution_count": null,
      "outputs": [
        {
          "output_type": "stream",
          "name": "stdout",
          "text": [
            "OR Gate Outputs: [0 1 1 1]\n"
          ]
        }
      ]
    },
    {
      "cell_type": "code",
      "source": [
        "# Training for AND gate\n",
        "perceptron_and = Perceptron(learning_rate=0.1, epochs=10)\n",
        "perceptron_and.fit(X_and, y_and)\n",
        "\n",
        "# Prediction\n",
        "y_pred_and = perceptron_and.predict(X_and)\n",
        "print(\"AND Gate Outputs:\", y_pred_and)\n"
      ],
      "metadata": {
        "id": "ElqiXmql7hZM",
        "colab": {
          "base_uri": "https://localhost:8080/"
        },
        "outputId": "c1679ac9-0f11-47dd-dd75-6b13a563b8ab"
      },
      "execution_count": null,
      "outputs": [
        {
          "output_type": "stream",
          "name": "stdout",
          "text": [
            "AND Gate Outputs: [0 0 0 1]\n"
          ]
        }
      ]
    },
    {
      "cell_type": "markdown",
      "source": [
        "## Visualization of Decision Boundaries\n",
        "\n",
        "The perceptron learns a linear decision boundary for the OR and AND gates, which we can visualize in 2D space.\n"
      ],
      "metadata": {
        "id": "_RwJuoUV7oIY"
      }
    },
    {
      "cell_type": "code",
      "source": [
        "import matplotlib.pyplot as plt\n",
        "\n",
        "# Ploting decision boundary\n",
        "def plot_decision_boundary(X, y, model, title):\n",
        "    x_min, x_max = X[:, 0].min() - 1, X[:, 0].max() + 1\n",
        "    y_min, y_max = X[:, 1].min() - 1, X[:, 1].max() + 1\n",
        "    xx, yy = np.meshgrid(np.arange(x_min, x_max, 0.1),\n",
        "                         np.arange(y_min, y_max, 0.1))\n",
        "    grid = np.c_[xx.ravel(), yy.ravel()]\n",
        "    Z = model.predict(grid)\n",
        "    Z = Z.reshape(xx.shape)\n",
        "\n",
        "    plt.contourf(xx, yy, Z, alpha=0.8, cmap=\"coolwarm\")\n",
        "    plt.scatter(X[:, 0], X[:, 1], c=y, edgecolor=\"k\", cmap=\"coolwarm\")\n",
        "    plt.title(title)\n",
        "    plt.xlabel(\"Input 1\")\n",
        "    plt.ylabel(\"Input 2\")\n",
        "    plt.show()\n",
        "\n",
        "# Plot for OR Gate\n",
        "plot_decision_boundary(X_or, y_or, perceptron_or, \"Decision Boundary for OR Gate\")\n",
        "\n",
        "# Plot for AND Gate\n",
        "plot_decision_boundary(X_and, y_and, perceptron_and, \"Decision Boundary for AND Gate\")\n"
      ],
      "metadata": {
        "id": "Bh9VNZ4L7pBv",
        "colab": {
          "base_uri": "https://localhost:8080/",
          "height": 927
        },
        "outputId": "fec20e75-0388-4186-92c5-86afbfd082ab"
      },
      "execution_count": null,
      "outputs": [
        {
          "output_type": "display_data",
          "data": {
            "text/plain": [
              "<Figure size 640x480 with 1 Axes>"
            ],
            "image/png": "[encoded data removed]"
          },
          "metadata": {}
        },
        {
          "output_type": "display_data",
          "data": {
            "text/plain": [
              "<Figure size 640x480 with 1 Axes>"
            ],
            "image/png": "[encoded data removed]"
          },
          "metadata": {}
        }
      ]
    },
    {
      "cell_type": "markdown",
      "source": [
        "EXPERIMENT-2\n",
        "# Single Layer Perceptron\n",
        "Implementing for multiclass classification\n",
        "This notebook demonstrates the implementation of a single-layer perceptron model for a multiclass classification problem using the Penguins dataset. The perceptron is a simple type of artificial neural network that learns to classify data points by learning a linear decision boundary.\n",
        "\n",
        "In this task, the dataset includes features like Bill Length (mm), Bill Depth (mm), Flipper Length (mm), and Body Mass (g), with the target variable being Species. The goal is to classify the penguins into three species: Adelie, Chinstrap, and Gentoo.\n",
        "\n",
        "##Description of DataSet:\n",
        "This dataset contains information about penguins, including their species, bill length, and flipper length. For multiclass classification, we focus on:\n",
        "\n",
        "Features:Bill Length (mm): The length of the penguins' bills.\n",
        "Flipper Length (mm): The length of the penguins' flippers.\n",
        "\n",
        "Target:Species: The species of the penguins, with three possible classes:\n",
        "Adelie\n",
        "Chinstrap\n",
        "Gentoo"
      ],
      "metadata": {
        "id": "mXHjfWs3D7_0"
      }
    },
    {
      "cell_type": "code",
      "source": [
        "import pandas as pd\n",
        "import numpy as np\n",
        "\n",
        "url = \"https://raw.githubusercontent.com/mwaskom/seaborn-data/master/penguins.csv\"\n",
        "data = pd.read_csv(url)\n",
        "\n",
        "data.head()\n"
      ],
      "metadata": {
        "colab": {
          "base_uri": "https://localhost:8080/",
          "height": 206
        },
        "id": "iyorzMsR8jzV",
        "outputId": "5e030a3d-e156-4653-f536-6d4dd564513d"
      },
      "execution_count": null,
      "outputs": [
        {
          "output_type": "execute_result",
          "data": {
            "text/plain": [
              "  species     island  bill_length_mm  bill_depth_mm  flipper_length_mm  \\\n",
              "0  Adelie  Torgersen            39.1           18.7              181.0   \n",
              "1  Adelie  Torgersen            39.5           17.4              186.0   \n",
              "2  Adelie  Torgersen            40.3           18.0              195.0   \n",
              "3  Adelie  Torgersen             NaN            NaN                NaN   \n",
              "4  Adelie  Torgersen            36.7           19.3              193.0   \n",
              "\n",
              "   body_mass_g     sex  \n",
              "0       3750.0    MALE  \n",
              "1       3800.0  FEMALE  \n",
              "2       3250.0  FEMALE  \n",
              "3          NaN     NaN  \n",
              "4       3450.0  FEMALE  "
            ],
            "text/html": [
              "\n",
              "  <div id=\"df-c7e8bbd1-05c5-4238-b5ef-b8e0fcda445e\" class=\"colab-df-container\">\n",
              "    <div>\n",
              "<style scoped>\n",
              "    .dataframe tbody tr th:only-of-type {\n",
              "        vertical-align: middle;\n",
              "    }\n",
              "\n",
              "    .dataframe tbody tr th {\n",
              "        vertical-align: top;\n",
              "    }\n",
              "\n",
              "    .dataframe thead th {\n",
              "        text-align: right;\n",
              "    }\n",
              "</style>\n",
              "<table border=\"1\" class=\"dataframe\">\n",
              "  <thead>\n",
              "    <tr style=\"text-align: right;\">\n",
              "      <th></th>\n",
              "      <th>species</th>\n",
              "      <th>island</th>\n",
              "      <th>bill_length_mm</th>\n",
              "      <th>bill_depth_mm</th>\n",
              "      <th>flipper_length_mm</th>\n",
              "      <th>body_mass_g</th>\n",
              "      <th>sex</th>\n",
              "    </tr>\n",
              "  </thead>\n",
              "  <tbody>\n",
              "    <tr>\n",
              "      <th>0</th>\n",
              "      <td>Adelie</td>\n",
              "      <td>Torgersen</td>\n",
              "      <td>39.1</td>\n",
              "      <td>18.7</td>\n",
              "      <td>181.0</td>\n",
              "      <td>3750.0</td>\n",
              "      <td>MALE</td>\n",
              "    </tr>\n",
              "    <tr>\n",
              "      <th>1</th>\n",
              "      <td>Adelie</td>\n",
              "      <td>Torgersen</td>\n",
              "      <td>39.5</td>\n",
              "      <td>17.4</td>\n",
              "      <td>186.0</td>\n",
              "      <td>3800.0</td>\n",
              "      <td>FEMALE</td>\n",
              "    </tr>\n",
              "    <tr>\n",
              "      <th>2</th>\n",
              "      <td>Adelie</td>\n",
              "      <td>Torgersen</td>\n",
              "      <td>40.3</td>\n",
              "      <td>18.0</td>\n",
              "      <td>195.0</td>\n",
              "      <td>3250.0</td>\n",
              "      <td>FEMALE</td>\n",
              "    </tr>\n",
              "    <tr>\n",
              "      <th>3</th>\n",
              "      <td>Adelie</td>\n",
              "      <td>Torgersen</td>\n",
              "      <td>NaN</td>\n",
              "      <td>NaN</td>\n",
              "      <td>NaN</td>\n",
              "      <td>NaN</td>\n",
              "      <td>NaN</td>\n",
              "    </tr>\n",
              "    <tr>\n",
              "      <th>4</th>\n",
              "      <td>Adelie</td>\n",
              "      <td>Torgersen</td>\n",
              "      <td>36.7</td>\n",
              "      <td>19.3</td>\n",
              "      <td>193.0</td>\n",
              "      <td>3450.0</td>\n",
              "      <td>FEMALE</td>\n",
              "    </tr>\n",
              "  </tbody>\n",
              "</table>\n",
              "</div>\n",
              "    <div class=\"colab-df-buttons\">\n",
              "\n",
              "  <div class=\"colab-df-container\">\n",
              "    <button class=\"colab-df-convert\" onclick=\"convertToInteractive('df-c7e8bbd1-05c5-4238-b5ef-b8e0fcda445e')\"\n",
              "            title=\"Convert this dataframe to an interactive table.\"\n",
              "            style=\"display:none;\">\n",
              "\n",
              "  <svg xmlns=\"http://www.w3.org/2000/svg\" height=\"24px\" viewBox=\"0 -960 960 960\">\n",
              "    <path d=\"M120-120v-720h720v720H120Zm60-500h600v-160H180v160Zm220 220h160v-160H400v160Zm0 220h160v-160H400v160ZM180-400h160v-160H180v160Zm440 0h160v-160H620v160ZM180-180h160v-160H180v160Zm440 0h160v-160H620v160Z\"/>\n",
              "  </svg>\n",
              "    </button>\n",
              "\n",
              "  <style>\n",
              "    .colab-df-container {\n",
              "      display:flex;\n",
              "      gap: 12px;\n",
              "    }\n",
              "\n",
              "    .colab-df-convert {\n",
              "      background-color: #E8F0FE;\n",
              "      border: none;\n",
              "      border-radius: 50%;\n",
              "      cursor: pointer;\n",
              "      display: none;\n",
              "      fill: #1967D2;\n",
              "      height: 32px;\n",
              "      padding: 0 0 0 0;\n",
              "      width: 32px;\n",
              "    }\n",
              "\n",
              "    .colab-df-convert:hover {\n",
              "      background-color: #E2EBFA;\n",
              "      box-shadow: 0px 1px 2px rgba(60, 64, 67, 0.3), 0px 1px 3px 1px rgba(60, 64, 67, 0.15);\n",
              "      fill: #174EA6;\n",
              "    }\n",
              "\n",
              "    .colab-df-buttons div {\n",
              "      margin-bottom: 4px;\n",
              "    }\n",
              "\n",
              "    [theme=dark] .colab-df-convert {\n",
              "      background-color: #3B4455;\n",
              "      fill: #D2E3FC;\n",
              "    }\n",
              "\n",
              "    [theme=dark] .colab-df-convert:hover {\n",
              "      background-color: #434B5C;\n",
              "      box-shadow: 0px 1px 3px 1px rgba(0, 0, 0, 0.15);\n",
              "      filter: drop-shadow(0px 1px 2px rgba(0, 0, 0, 0.3));\n",
              "      fill: #FFFFFF;\n",
              "    }\n",
              "  </style>\n",
              "\n",
              "    <script>\n",
              "      const buttonEl =\n",
              "        document.querySelector('#df-c7e8bbd1-05c5-4238-b5ef-b8e0fcda445e button.colab-df-convert');\n",
              "      buttonEl.style.display =\n",
              "        google.colab.kernel.accessAllowed ? 'block' : 'none';\n",
              "\n",
              "      async function convertToInteractive(key) {\n",
              "        const element = document.querySelector('#df-c7e8bbd1-05c5-4238-b5ef-b8e0fcda445e');\n",
              "        const dataTable =\n",
              "          await google.colab.kernel.invokeFunction('convertToInteractive',\n",
              "                                                    [key], {});\n",
              "        if (!dataTable) return;\n",
              "\n",
              "        const docLinkHtml = 'Like what you see? Visit the ' +\n",
              "          '<a target=\"_blank\" href=https://colab.research.google.com/notebooks/data_table.ipynb>data table notebook</a>'\n",
              "          + ' to learn more about interactive tables.';\n",
              "        element.innerHTML = '';\n",
              "        dataTable['output_type'] = 'display_data';\n",
              "        await google.colab.output.renderOutput(dataTable, element);\n",
              "        const docLink = document.createElement('div');\n",
              "        docLink.innerHTML = docLinkHtml;\n",
              "        element.appendChild(docLink);\n",
              "      }\n",
              "    </script>\n",
              "  </div>\n",
              "\n",
              "\n",
              "<div id=\"df-d9eb1bbd-575a-49b0-9ab4-27cfe1e5af97\">\n",
              "  <button class=\"colab-df-quickchart\" onclick=\"quickchart('df-d9eb1bbd-575a-49b0-9ab4-27cfe1e5af97')\"\n",
              "            title=\"Suggest charts\"\n",
              "            style=\"display:none;\">\n",
              "\n",
              "<svg xmlns=\"http://www.w3.org/2000/svg\" height=\"24px\"viewBox=\"0 0 24 24\"\n",
              "     width=\"24px\">\n",
              "    <g>\n",
              "        <path d=\"M19 3H5c-1.1 0-2 .9-2 2v14c0 1.1.9 2 2 2h14c1.1 0 2-.9 2-2V5c0-1.1-.9-2-2-2zM9 17H7v-7h2v7zm4 0h-2V7h2v10zm4 0h-2v-4h2v4z\"/>\n",
              "    </g>\n",
              "</svg>\n",
              "  </button>\n",
              "\n",
              "<style>\n",
              "  .colab-df-quickchart {\n",
              "      --bg-color: #E8F0FE;\n",
              "      --fill-color: #1967D2;\n",
              "      --hover-bg-color: #E2EBFA;\n",
              "      --hover-fill-color: #174EA6;\n",
              "      --disabled-fill-color: #AAA;\n",
              "      --disabled-bg-color: #DDD;\n",
              "  }\n",
              "\n",
              "  [theme=dark] .colab-df-quickchart {\n",
              "      --bg-color: #3B4455;\n",
              "      --fill-color: #D2E3FC;\n",
              "      --hover-bg-color: #434B5C;\n",
              "      --hover-fill-color: #FFFFFF;\n",
              "      --disabled-bg-color: #3B4455;\n",
              "      --disabled-fill-color: #666;\n",
              "  }\n",
              "\n",
              "  .colab-df-quickchart {\n",
              "    background-color: var(--bg-color);\n",
              "    border: none;\n",
              "    border-radius: 50%;\n",
              "    cursor: pointer;\n",
              "    display: none;\n",
              "    fill: var(--fill-color);\n",
              "    height: 32px;\n",
              "    padding: 0;\n",
              "    width: 32px;\n",
              "  }\n",
              "\n",
              "  .colab-df-quickchart:hover {\n",
              "    background-color: var(--hover-bg-color);\n",
              "    box-shadow: 0 1px 2px rgba(60, 64, 67, 0.3), 0 1px 3px 1px rgba(60, 64, 67, 0.15);\n",
              "    fill: var(--button-hover-fill-color);\n",
              "  }\n",
              "\n",
              "  .colab-df-quickchart-complete:disabled,\n",
              "  .colab-df-quickchart-complete:disabled:hover {\n",
              "    background-color: var(--disabled-bg-color);\n",
              "    fill: var(--disabled-fill-color);\n",
              "    box-shadow: none;\n",
              "  }\n",
              "\n",
              "  .colab-df-spinner {\n",
              "    border: 2px solid var(--fill-color);\n",
              "    border-color: transparent;\n",
              "    border-bottom-color: var(--fill-color);\n",
              "    animation:\n",
              "      spin 1s steps(1) infinite;\n",
              "  }\n",
              "\n",
              "  @keyframes spin {\n",
              "    0% {\n",
              "      border-color: transparent;\n",
              "      border-bottom-color: var(--fill-color);\n",
              "      border-left-color: var(--fill-color);\n",
              "    }\n",
              "    20% {\n",
              "      border-color: transparent;\n",
              "      border-left-color: var(--fill-color);\n",
              "      border-top-color: var(--fill-color);\n",
              "    }\n",
              "    30% {\n",
              "      border-color: transparent;\n",
              "      border-left-color: var(--fill-color);\n",
              "      border-top-color: var(--fill-color);\n",
              "      border-right-color: var(--fill-color);\n",
              "    }\n",
              "    40% {\n",
              "      border-color: transparent;\n",
              "      border-right-color: var(--fill-color);\n",
              "      border-top-color: var(--fill-color);\n",
              "    }\n",
              "    60% {\n",
              "      border-color: transparent;\n",
              "      border-right-color: var(--fill-color);\n",
              "    }\n",
              "    80% {\n",
              "      border-color: transparent;\n",
              "      border-right-color: var(--fill-color);\n",
              "      border-bottom-color: var(--fill-color);\n",
              "    }\n",
              "    90% {\n",
              "      border-color: transparent;\n",
              "      border-bottom-color: var(--fill-color);\n",
              "    }\n",
              "  }\n",
              "</style>\n",
              "\n",
              "  <script>\n",
              "    async function quickchart(key) {\n",
              "      const quickchartButtonEl =\n",
              "        document.querySelector('#' + key + ' button');\n",
              "      quickchartButtonEl.disabled = true;  // To prevent multiple clicks.\n",
              "      quickchartButtonEl.classList.add('colab-df-spinner');\n",
              "      try {\n",
              "        const charts = await google.colab.kernel.invokeFunction(\n",
              "            'suggestCharts', [key], {});\n",
              "      } catch (error) {\n",
              "        console.error('Error during call to suggestCharts:', error);\n",
              "      }\n",
              "      quickchartButtonEl.classList.remove('colab-df-spinner');\n",
              "      quickchartButtonEl.classList.add('colab-df-quickchart-complete');\n",
              "    }\n",
              "    (() => {\n",
              "      let quickchartButtonEl =\n",
              "        document.querySelector('#df-d9eb1bbd-575a-49b0-9ab4-27cfe1e5af97 button');\n",
              "      quickchartButtonEl.style.display =\n",
              "        google.colab.kernel.accessAllowed ? 'block' : 'none';\n",
              "    })();\n",
              "  </script>\n",
              "</div>\n",
              "\n",
              "    </div>\n",
              "  </div>\n"
            ],
            "application/vnd.google.colaboratory.intrinsic+json": {
              "type": "dataframe",
              "variable_name": "data",
              "summary": "{\n  \"name\": \"data\",\n  \"rows\": 344,\n  \"fields\": [\n    {\n      \"column\": \"species\",\n      \"properties\": {\n        \"dtype\": \"category\",\n        \"num_unique_values\": 3,\n        \"samples\": [\n          \"Adelie\",\n          \"Chinstrap\",\n          \"Gentoo\"\n        ],\n        \"semantic_type\": \"\",\n        \"description\": \"\"\n      }\n    },\n    {\n      \"column\": \"island\",\n      \"properties\": {\n        \"dtype\": \"category\",\n        \"num_unique_values\": 3,\n        \"samples\": [\n          \"Torgersen\",\n          \"Biscoe\",\n          \"Dream\"\n        ],\n        \"semantic_type\": \"\",\n        \"description\": \"\"\n      }\n    },\n    {\n      \"column\": \"bill_length_mm\",\n      \"properties\": {\n        \"dtype\": \"number\",\n        \"std\": 5.459583713926532,\n        \"min\": 32.1,\n        \"max\": 59.6,\n        \"num_unique_values\": 164,\n        \"samples\": [\n          48.2,\n          49.8,\n          45.1\n        ],\n        \"semantic_type\": \"\",\n        \"description\": \"\"\n      }\n    },\n    {\n      \"column\": \"bill_depth_mm\",\n      \"properties\": {\n        \"dtype\": \"number\",\n        \"std\": 1.9747931568167816,\n        \"min\": 13.1,\n        \"max\": 21.5,\n        \"num_unique_values\": 80,\n        \"samples\": [\n          16.9,\n          18.7,\n          18.6\n        ],\n        \"semantic_type\": \"\",\n        \"description\": \"\"\n      }\n    },\n    {\n      \"column\": \"flipper_length_mm\",\n      \"properties\": {\n        \"dtype\": \"number\",\n        \"std\": 14.061713679356894,\n        \"min\": 172.0,\n        \"max\": 231.0,\n        \"num_unique_values\": 55,\n        \"samples\": [\n          201.0,\n          180.0,\n          212.0\n        ],\n        \"semantic_type\": \"\",\n        \"description\": \"\"\n      }\n    },\n    {\n      \"column\": \"body_mass_g\",\n      \"properties\": {\n        \"dtype\": \"number\",\n        \"std\": 801.9545356980954,\n        \"min\": 2700.0,\n        \"max\": 6300.0,\n        \"num_unique_values\": 94,\n        \"samples\": [\n          4350.0,\n          4150.0,\n          3525.0\n        ],\n        \"semantic_type\": \"\",\n        \"description\": \"\"\n      }\n    },\n    {\n      \"column\": \"sex\",\n      \"properties\": {\n        \"dtype\": \"category\",\n        \"num_unique_values\": 2,\n        \"samples\": [\n          \"FEMALE\",\n          \"MALE\"\n        ],\n        \"semantic_type\": \"\",\n        \"description\": \"\"\n      }\n    }\n  ]\n}"
            }
          },
          "metadata": {},
          "execution_count": 25
        }
      ]
    },
    {
      "cell_type": "markdown",
      "source": [
        "DATA PREPROCESSING\n",
        "#Data Preprocessing\n",
        "\n",
        "This code is used to preprocess the Penguins dataset for multiclass\n",
        "classification. The task involves handling missing values, one-hot encoding the target variable (species), and normalizing the feature columns (bill length, bill depth, flipper length, and body mass) to improve model performance.\n",
        "\n",
        "**Handling Missing Data**: Missing values in bill_length_mm, bill_depth_mm, flipper_length_mm, and body_mass_g are filled with their respective mean values.\n",
        "**Target Encoding**: The target (species) is one-hot encoded into binary vectors for each species (Adelie, Chinstrap, Gentoo).\n",
        "**Feature Selection**: Relevant features (bill_length_mm, bill_depth_mm, flipper_length_mm, body_mass_g) are chosen for classification.\n",
        "**Normalization**: Features are scaled using StandardScaler to have similar ranges for improved model performance."
      ],
      "metadata": {
        "id": "EvFQfEwLFZtC"
      }
    },
    {
      "cell_type": "code",
      "source": [
        "from sklearn.preprocessing import OneHotEncoder, StandardScaler\n",
        "# Handle missing values\n",
        "data['bill_length_mm'].fillna(data['bill_length_mm'].mean(), inplace=True)\n",
        "data['bill_depth_mm'].fillna(data['bill_depth_mm'].mean(), inplace=True)\n",
        "data['flipper_length_mm'].fillna(data['flipper_length_mm'].mean(), inplace=True)\n",
        "data['body_mass_g'].fillna(data['body_mass_g'].mean(), inplace=True)\n",
        "\n",
        "# Multiclass classification: (target)species column\n",
        "# One-hot encode\n",
        "data['species'] = data['species'].astype('category')\n",
        "target = data['species']\n",
        "encoder = OneHotEncoder(sparse_output=False)\n",
        "target_encoded = encoder.fit_transform(target.values.reshape(-1, 1))\n",
        "\n",
        "# Selecting features\n",
        "features = data[['bill_length_mm', 'bill_depth_mm', 'flipper_length_mm', 'body_mass_g']]\n",
        "\n",
        "# Normalization\n",
        "scaler = StandardScaler()\n",
        "features = scaler.fit_transform(features)\n",
        "\n",
        "print(\"Processed Features:\")\n",
        "print(features[:5])\n",
        "\n",
        "print(\"\\nTarget:\")\n",
        "print(target[:5])"
      ],
      "metadata": {
        "colab": {
          "base_uri": "https://localhost:8080/"
        },
        "id": "Nv5b6g409XuZ",
        "outputId": "23fbd1c2-5432-487a-e92f-797d29192473"
      },
      "execution_count": null,
      "outputs": [
        {
          "output_type": "stream",
          "name": "stdout",
          "text": [
            "Processed Features:\n",
            "[[-8.87081226e-01  7.87742515e-01 -1.42248782e+00 -5.65789211e-01]\n",
            " [-8.13493989e-01  1.26556330e-01 -1.06535169e+00 -5.03167881e-01]\n",
            " [-6.66319516e-01  4.31719184e-01 -4.22506659e-01 -1.19200251e+00]\n",
            " [-1.30717191e-15  1.80692708e-15  0.00000000e+00  0.00000000e+00]\n",
            " [-1.32860464e+00  1.09290537e+00 -5.65361110e-01 -9.41517191e-01]]\n",
            "\n",
            "Target:\n",
            "0    Adelie\n",
            "1    Adelie\n",
            "2    Adelie\n",
            "3    Adelie\n",
            "4    Adelie\n",
            "Name: species, dtype: category\n",
            "Categories (3, object): ['Adelie', 'Chinstrap', 'Gentoo']\n"
          ]
        },
        {
          "output_type": "stream",
          "name": "stderr",
          "text": [
            "<ipython-input-28-75157bdb4077>:3: FutureWarning: A value is trying to be set on a copy of a DataFrame or Series through chained assignment using an inplace method.\n",
            "The behavior will change in pandas 3.0. This inplace method will never work because the intermediate object on which we are setting values always behaves as a copy.\n",
            "\n",
            "For example, when doing 'df[col].method(value, inplace=True)', try using 'df.method({col: value}, inplace=True)' or df[col] = df[col].method(value) instead, to perform the operation inplace on the original object.\n",
            "\n",
            "\n",
            "  data['bill_length_mm'].fillna(data['bill_length_mm'].mean(), inplace=True)\n",
            "<ipython-input-28-75157bdb4077>:4: FutureWarning: A value is trying to be set on a copy of a DataFrame or Series through chained assignment using an inplace method.\n",
            "The behavior will change in pandas 3.0. This inplace method will never work because the intermediate object on which we are setting values always behaves as a copy.\n",
            "\n",
            "For example, when doing 'df[col].method(value, inplace=True)', try using 'df.method({col: value}, inplace=True)' or df[col] = df[col].method(value) instead, to perform the operation inplace on the original object.\n",
            "\n",
            "\n",
            "  data['bill_depth_mm'].fillna(data['bill_depth_mm'].mean(), inplace=True)\n",
            "<ipython-input-28-75157bdb4077>:5: FutureWarning: A value is trying to be set on a copy of a DataFrame or Series through chained assignment using an inplace method.\n",
            "The behavior will change in pandas 3.0. This inplace method will never work because the intermediate object on which we are setting values always behaves as a copy.\n",
            "\n",
            "For example, when doing 'df[col].method(value, inplace=True)', try using 'df.method({col: value}, inplace=True)' or df[col] = df[col].method(value) instead, to perform the operation inplace on the original object.\n",
            "\n",
            "\n",
            "  data['flipper_length_mm'].fillna(data['flipper_length_mm'].mean(), inplace=True)\n",
            "<ipython-input-28-75157bdb4077>:6: FutureWarning: A value is trying to be set on a copy of a DataFrame or Series through chained assignment using an inplace method.\n",
            "The behavior will change in pandas 3.0. This inplace method will never work because the intermediate object on which we are setting values always behaves as a copy.\n",
            "\n",
            "For example, when doing 'df[col].method(value, inplace=True)', try using 'df.method({col: value}, inplace=True)' or df[col] = df[col].method(value) instead, to perform the operation inplace on the original object.\n",
            "\n",
            "\n",
            "  data['body_mass_g'].fillna(data['body_mass_g'].mean(), inplace=True)\n"
          ]
        }
      ]
    },
    {
      "cell_type": "markdown",
      "source": [
        "SINGLE LAYER PERCEPTRON MULTICLASS CLASSIFICATION\n",
        "## Single Layer Perceptron Implementation from scratch\n",
        "\n",
        "1. **Initialization**:\n",
        "   - Set weights and bias to zeros.\n",
        "   - Define learning rate and number of epochs.\n",
        "\n",
        "2. **Activation Function**:\n",
        "   - Use a step function: Return 1 if the output is ≥0, otherwise 0.\n",
        "\n",
        "3. **Training (Fit)**:\n",
        "   - For each epoch, process training samples.\n",
        "   - Compute the linear output: `linear_output = np.dot(weights, x_i) + bias`.\n",
        "   - Apply the step function to predict the class.\n",
        "   - If misclassified, update weights and bias using the perceptron rule.\n",
        "\n",
        "4. **Prediction**:\n",
        "   - For test samples, compute the linear output and classify based on the highest output.\n",
        "\n",
        "5. **Evaluation**:\n",
        "   - Compare predicted and actual labels to calculate accuracy.\n"
      ],
      "metadata": {
        "id": "uhaQZl_2GhFZ"
      }
    },
    {
      "cell_type": "code",
      "source": [
        "# Conversion into numpy arrays\n",
        "X = np.array(features)\n",
        "y = np.array(target_encoded)\n",
        "\n",
        "# Split into training and test sets\n",
        "X_train, X_test, y_train, y_test = train_test_split(X, y, test_size=0.2, random_state=42)\n",
        "\n",
        "# Single Layer Perceptron class  (multiclass classification)\n",
        "class SingleLayerPerceptron:\n",
        "    def __init__(self, learning_rate=0.01, epochs=100):\n",
        "        self.learning_rate = learning_rate\n",
        "        self.epochs = epochs\n",
        "        self.weights = None\n",
        "        self.bias = None\n",
        "        self.errors_ = []\n",
        "\n",
        "    def step_function(self, x):\n",
        "        return 1 if x >= 0 else 0\n",
        "\n",
        "    def fit(self, X, y):\n",
        "        n_samples, n_features = X.shape\n",
        "        n_classes = y.shape[1]  # No. of classes (for multiclass classification)\n",
        "\n",
        "        # Initialize weights and biases\n",
        "        self.weights = np.zeros((n_classes, n_features))\n",
        "        self.bias = np.zeros(n_classes)\n",
        "\n",
        "        for _ in range(self.epochs):\n",
        "            errors = 0\n",
        "            for idx, x_i in enumerate(X):\n",
        "                # linear output og each class\n",
        "                linear_outputs = np.dot(self.weights, x_i) + self.bias\n",
        "                y_pred = np.argmax(linear_outputs)  # Choose the class with the highest output\n",
        "                true_class = np.argmax(y[idx])\n",
        "\n",
        "                # Update weights and bias\n",
        "                if y_pred != true_class:\n",
        "                    self.weights[true_class] += self.learning_rate * x_i\n",
        "                    self.weights[y_pred] -= self.learning_rate * x_i\n",
        "                    self.bias[true_class] += self.learning_rate\n",
        "                    self.bias[y_pred] -= self.learning_rate\n",
        "\n",
        "                # Counting smaples that are misclassified\n",
        "                errors += int(y_pred != true_class)\n",
        "\n",
        "            self.errors_.append(errors)\n",
        "\n",
        "    def predict(self, X):\n",
        "        linear_outputs = np.dot(X, self.weights.T) + self.bias\n",
        "        return np.array([np.argmax(x) for x in linear_outputs])\n",
        "\n",
        "# Training\n",
        "perceptron = SingleLayerPerceptron(learning_rate=0.01, epochs=100)\n",
        "perceptron.fit(X_train, y_train)\n",
        "\n",
        "# Prediction\n",
        "y_pred = perceptron.predict(X_test)\n",
        "\n",
        "# Accuracy\n",
        "accuracy = accuracy_score(np.argmax(y_test, axis=1), y_pred)\n",
        "print(accuracy)\n"
      ],
      "metadata": {
        "colab": {
          "base_uri": "https://localhost:8080/"
        },
        "id": "bGJvMc5W-7Ha",
        "outputId": "072e278f-2d05-4606-a0af-f920cf52079b"
      },
      "execution_count": null,
      "outputs": [
        {
          "output_type": "stream",
          "name": "stdout",
          "text": [
            "0.9710144927536232\n"
          ]
        }
      ]
    },
    {
      "cell_type": "markdown",
      "source": [
        "IMPLEMENTATION USING SCIKIT LEARN"
      ],
      "metadata": {
        "id": "2lNt5OIbHQyr"
      }
    },
    {
      "cell_type": "code",
      "source": [
        "from sklearn.linear_model import Perceptron as SklearnPerceptron\n",
        "from sklearn.metrics import accuracy_score\n",
        "\n",
        "# Convert one-hot encoded n\n",
        "y_train_labels = np.argmax(y_train, axis=1)\n",
        "y_test_labels = np.argmax(y_test, axis=1)\n",
        "\n",
        "# Training\n",
        "sklearn_perceptron = SklearnPerceptron(max_iter=1000, eta0=0.01, random_state=42)\n",
        "sklearn_perceptron.fit(X_train, y_train_labels)\n",
        "\n",
        "# Prediction\n",
        "y_pred_sklearn = sklearn_perceptron.predict(X_test)\n",
        "print(\"Accuracy (Scikit-learn):\", accuracy_score(y_test_labels, y_pred_sklearn))\n"
      ],
      "metadata": {
        "colab": {
          "base_uri": "https://localhost:8080/"
        },
        "id": "4ok80rZN_ZVY",
        "outputId": "65e935e4-0440-45df-c497-79e229f857b4"
      },
      "execution_count": null,
      "outputs": [
        {
          "output_type": "stream",
          "name": "stdout",
          "text": [
            "Accuracy (Scikit-learn): 0.9855072463768116\n"
          ]
        }
      ]
    },
    {
      "cell_type": "markdown",
      "source": [
        "EVALUATION & VISUALIZATION"
      ],
      "metadata": {
        "id": "myWs5mivHh2z"
      }
    },
    {
      "cell_type": "code",
      "source": [
        "# Train the Single Layer Perceptron\n",
        "perceptron = SingleLayerPerceptron(learning_rate=0.01, epochs=100)\n",
        "perceptron.fit(X_train, y_train)\n",
        "\n",
        "# Ploting\n",
        "plt.plot(range(1, len(perceptron.errors_) + 1), perceptron.errors_)\n",
        "plt.title(\"Error Reduction Over Iterations\")\n",
        "plt.xlabel(\"Epochs\")\n",
        "plt.ylabel(\"Number of Errors\")\n",
        "plt.show()\n"
      ],
      "metadata": {
        "colab": {
          "base_uri": "https://localhost:8080/",
          "height": 472
        },
        "id": "c0vbBduZHkmB",
        "outputId": "01c097d9-0447-4269-a4cf-d2e95da510f5"
      },
      "execution_count": null,
      "outputs": [
        {
          "output_type": "display_data",
          "data": {
            "text/plain": [
              "<Figure size 640x480 with 1 Axes>"
            ],
            "image/png": "[encoded data removed]"
          },
          "metadata": {}
        }
      ]
    },
    {
      "cell_type": "markdown",
      "source": [
        "EVALUATION\n",
        "\n",
        "The Single Layer Perceptron for multiclass classification achieved an accuracy of approximately 97% when implemented from scratch and 98% using Scikit-learn. The error reduction plot shows a consistent decrease in errors over iterations, indicating that the model is improving its performance as it learns."
      ],
      "metadata": {
        "id": "yKPIpzvDJCt6"
      }
    },
    {
      "cell_type": "markdown",
      "source": [
        "# Single Layer Perceptron implementation for OR and AND Gates\n",
        "The Below cells demonstrates the single layer perceptron model's application in Multiclass classification using OR and AND logic gates. Each gate represents a simple linearly separable dataset, where:\n",
        "- OR gate outputs 1 if at least one input is 1.\n",
        "- AND gate outputs 1 only if both inputs are 1.\n",
        "\n",
        "The perceptron  is  implemented from scratch and evaluated for its performance.\n"
      ],
      "metadata": {
        "id": "vgIO-HxEJOEa"
      }
    },
    {
      "cell_type": "code",
      "source": [
        "import numpy as np\n",
        "\n",
        "class SingleLayerPerceptron:\n",
        "    def __init__(self, learning_rate=0.1, epochs=100):\n",
        "        self.learning_rate = learning_rate\n",
        "        self.epochs = epochs\n",
        "        self.weights = None\n",
        "        self.bias = None\n",
        "\n",
        "    def step_function(self, x):\n",
        "        return 1 if x >= 0 else 0\n",
        "\n",
        "    def fit(self, X, y):\n",
        "        n_samples, n_features = X.shape\n",
        "\n",
        "        # Initialize weights and biases\n",
        "        self.weights = np.random.randn(n_features)\n",
        "        self.bias = 0\n",
        "\n",
        "        for _ in range(self.epochs):\n",
        "            for idx, x_i in enumerate(X):\n",
        "                # Compute the linear output\n",
        "                linear_output = np.dot(x_i, self.weights) + self.bias\n",
        "                y_pred = self.step_function(linear_output)\n",
        "\n",
        "                # Update weights and bias\n",
        "                if y_pred != y[idx]:\n",
        "                    self.weights += self.learning_rate * (y[idx] - y_pred) * x_i\n",
        "                    self.bias += self.learning_rate * (y[idx] - y_pred)\n",
        "\n",
        "    def predict(self, X):\n",
        "        linear_outputs = np.dot(X, self.weights) + self.bias\n",
        "        return np.array([self.step_function(x) for x in linear_outputs])\n"
      ],
      "metadata": {
        "id": "IU7zlo4-BmcE"
      },
      "execution_count": null,
      "outputs": []
    },
    {
      "cell_type": "code",
      "source": [
        "# Train the SLperceptron for AND gate\n",
        "perceptron_and = SingleLayerPerceptron(learning_rate=0.1, epochs=1000)\n",
        "perceptron_and.fit(X_and, y_and)\n",
        "\n",
        "# Predict and evaluate for AND gate\n",
        "y_pred_and = perceptron_and.predict(X_and)\n",
        "print(\"AND Gate Outputs:\", y_pred_and)"
      ],
      "metadata": {
        "colab": {
          "base_uri": "https://localhost:8080/"
        },
        "id": "49Ifb3ytB5wW",
        "outputId": "f701eac5-aa58-435d-8c45-5aff8522c9df"
      },
      "execution_count": null,
      "outputs": [
        {
          "output_type": "stream",
          "name": "stdout",
          "text": [
            "AND Gate Outputs: [0 0 0 1]\n"
          ]
        }
      ]
    },
    {
      "cell_type": "code",
      "source": [
        "# Train the SLperceptron for OR gate\n",
        "perceptron_or = SingleLayerPerceptron(learning_rate=0.1, epochs=1000)\n",
        "perceptron_or.fit(X_or, y_or)\n",
        "\n",
        "# Predict and evaluate for OR gate\n",
        "y_pred_or = perceptron_or.predict(X_or)\n",
        "print(\"OR Gate Outputs:\", y_pred_or)\n"
      ],
      "metadata": {
        "colab": {
          "base_uri": "https://localhost:8080/"
        },
        "id": "jWwTIQJpCwh1",
        "outputId": "4d8a5eca-6168-44f2-bd9e-83fa1810c989"
      },
      "execution_count": null,
      "outputs": [
        {
          "output_type": "stream",
          "name": "stdout",
          "text": [
            "OR Gate Outputs: [0 1 1 1]\n"
          ]
        }
      ]
    },
    {
      "cell_type": "markdown",
      "source": [
        "#Visaulization of Decision Boundaries\n",
        "\n",
        "The Single Layer Perceptron learns a linear decision boundary for the OR and AND gates, which we can visualize in 2D space.\n"
      ],
      "metadata": {
        "id": "tXqyPT08MQCZ"
      }
    },
    {
      "cell_type": "code",
      "source": [
        "import numpy as np\n",
        "import matplotlib.pyplot as plt\n",
        "\n",
        "# Plot decision boundary\n",
        "def plot_decision_boundary(X, y, model, title):\n",
        "    x_min, x_max = X[:, 0].min() - 1, X[:, 0].max() + 1\n",
        "    y_min, y_max = X[:, 1].min() - 1, X[:, 1].max() + 1\n",
        "    xx, yy = np.meshgrid(np.arange(x_min, x_max, 0.1),\n",
        "                         np.arange(y_min, y_max, 0.1))\n",
        "    grid = np.c_[xx.ravel(), yy.ravel()]\n",
        "\n",
        "    Z = model.predict(grid)\n",
        "    Z = Z.reshape(xx.shape)\n",
        "\n",
        "    plt.contourf(xx, yy, Z, alpha=0.8, cmap=\"coolwarm\")\n",
        "    plt.scatter(X[:, 0], X[:, 1], c=y, edgecolor=\"k\", cmap=\"coolwarm\")\n",
        "    plt.title(title)\n",
        "    plt.xlabel(\"Input 1\")\n",
        "    plt.ylabel(\"Input 2\")\n",
        "    plt.show()\n",
        "\n",
        "# Define the input and output for the OR gate\n",
        "X_or = np.array([[0, 0], [0, 1], [1, 0], [1, 1]])  # Input: two binary features\n",
        "y_or = np.array([0, 1, 1, 1])  # Output: OR gate result\n",
        "\n",
        "# Train the perceptron for OR gate\n",
        "perceptron_or = SingleLayerPerceptron(learning_rate=0.1, epochs=1000)  # Increased epochs\n",
        "perceptron_or.fit(X_or, y_or)\n",
        "\n",
        "# Define the input and output for the AND gate\n",
        "X_and = np.array([[0, 0], [0, 1], [1, 0], [1, 1]])  # Input: two binary features\n",
        "y_and = np.array([0, 0, 0, 1])  # Output: AND gate result\n",
        "\n",
        "# Train the perceptron for AND gate\n",
        "perceptron_and = SingleLayerPerceptron(learning_rate=0.1, epochs=1000)  # Increased epochs\n",
        "perceptron_and.fit(X_and, y_and)\n",
        "\n",
        "# Plot for OR Gate\n",
        "plot_decision_boundary(X_or, y_or, perceptron_or, \"Decision Boundary for OR Gate\")\n",
        "\n",
        "# Plot for AND Gate\n",
        "plot_decision_boundary(X_and, y_and, perceptron_and, \"Decision Boundary for AND Gate\")\n"
      ],
      "metadata": {
        "colab": {
          "base_uri": "https://localhost:8080/",
          "height": 927
        },
        "id": "_h9zMfEJDDwM",
        "outputId": "5240192c-04b9-44db-c86d-5d9f1c3daf81"
      },
      "execution_count": null,
      "outputs": [
        {
          "output_type": "display_data",
          "data": {
            "text/plain": [
              "<Figure size 640x480 with 1 Axes>"
            ],
            "image/png": "[encoded data removed]"
          },
          "metadata": {}
        },
        {
          "output_type": "display_data",
          "data": {
            "text/plain": [
              "<Figure size 640x480 with 1 Axes>"
            ],
            "image/png": "[encoded data removed]"
          },
          "metadata": {}
        }
      ]
    },
    {
      "cell_type": "markdown",
      "source": [
        "EXPERIMENT-3\n",
        "##Multilayer perceptron Implementation and solving XOR problem\n",
        "Implementing Multilayer percepton from dataset obtained thorugh scikit learn\n",
        "\n",
        "1)The code loads the Iris dataset using scikit learn, which contains 4 features (sepal length, sepal width, petal length, and petal width) and the target variable (species of the flower).\n",
        "\n",
        "2)An MLP (Multi-Layer Perceptron) model is created using MLPClassifier with 2 hidden layers, each having 10 neurons, and a maximum of 1000 training iterations.\n",
        "\n",
        "3) The model is trained to make predcitons accourdingly"
      ],
      "metadata": {
        "id": "xwFuaz1URYCe"
      }
    },
    {
      "cell_type": "code",
      "source": [
        "from sklearn.datasets import load_iris\n",
        "from sklearn.model_selection import train_test_split\n",
        "from sklearn.neural_network import MLPClassifier\n",
        "from sklearn.metrics import accuracy_score\n",
        "import numpy as np\n",
        "\n",
        "\n",
        "data = load_iris()\n",
        "X = data.data\n",
        "y = data.target\n",
        "\n",
        "# training and testing division\n",
        "X_train, X_test, y_train, y_test = train_test_split(X, y, test_size=0.2, random_state=42)\n",
        "\n",
        "#Mlp model\n",
        "mlp = MLPClassifier(hidden_layer_sizes=(10, 10), max_iter=1000, random_state=42)\n",
        "mlp.fit(X_train, y_train)\n",
        "\n",
        "# Predict and evaluate\n",
        "y_pred = mlp.predict(X_test)\n",
        "print(\"Accuracy:\", accuracy_score(y_test, y_pred))\n"
      ],
      "metadata": {
        "id": "vza7g7o3zwMG",
        "colab": {
          "base_uri": "https://localhost:8080/"
        },
        "outputId": "6da3a388-ab89-479a-9ae7-d163e46c8158"
      },
      "execution_count": null,
      "outputs": [
        {
          "output_type": "stream",
          "name": "stdout",
          "text": [
            "Accuracy: 0.9333333333333333\n"
          ]
        }
      ]
    },
    {
      "cell_type": "markdown",
      "source": [
        "PLOT REPRESENTATION OF MLP\n",
        "\n",
        "1)The decision boundary of the trained MLP model is visualized on the 2D feature space, showing how the model classifies different regions of the input space based on the features.\n",
        "\n",
        "2)PCA is used to reduce the feature space of the training and test data"
      ],
      "metadata": {
        "id": "lzMBGHRBTXve"
      }
    },
    {
      "cell_type": "code",
      "source": [
        "import matplotlib.pyplot as plt\n",
        "import numpy as np\n",
        "from sklearn.decomposition import PCA\n",
        "\n",
        "# DB function\n",
        "def plot_decision_boundary(X, y, model, title):\n",
        "    x_min, x_max = X[:, 0].min() - 1, X[:, 0].max() + 1\n",
        "    y_min, y_max = X[:, 1].min() - 1, X[:, 1].max() + 1\n",
        "    xx, yy = np.meshgrid(np.arange(x_min, x_max, 0.1),\n",
        "                         np.arange(y_min, y_max, 0.1))\n",
        "    grid = np.c_[xx.ravel(), yy.ravel()]\n",
        "    Z = model.predict(grid)\n",
        "    Z = Z.reshape(xx.shape)\n",
        "\n",
        "    plt.contourf(xx, yy, Z, alpha=0.8, cmap=\"coolwarm\")\n",
        "    plt.scatter(X[:, 0], X[:, 1], c=y, edgecolor=\"k\", cmap=\"coolwarm\")\n",
        "    plt.title(title)\n",
        "    plt.xlabel(\"Feature 1\")\n",
        "    plt.ylabel(\"Feature 2\")\n",
        "    plt.show()\n",
        "\n",
        "# Reduce dimensions using PCA\n",
        "pca = PCA(n_components=2)\n",
        "X_train_2d = pca.fit_transform(X_train)\n",
        "X_test_2d = pca.transform(X_test)\n",
        "\n",
        "# Training\n",
        "mlp.fit(X_train_2d, y_train)\n",
        "\n",
        "# Ploting\n",
        "plot_decision_boundary(X_train_2d, y_train, mlp, \"Decision Boundary for MLP (Training Data)\")\n"
      ],
      "metadata": {
        "colab": {
          "base_uri": "https://localhost:8080/",
          "height": 472
        },
        "id": "RafZhymTTTgD",
        "outputId": "67d91b48-bc30-4b68-c00f-11e68fbd9525"
      },
      "execution_count": null,
      "outputs": [
        {
          "output_type": "display_data",
          "data": {
            "text/plain": [
              "<Figure size 640x480 with 1 Axes>"
            ],
            "image/png": "[encoded data removed]"
          },
          "metadata": {}
        }
      ]
    },
    {
      "cell_type": "markdown",
      "source": [],
      "metadata": {
        "id": "MkJLfaDiMPAp"
      }
    },
    {
      "cell_type": "markdown",
      "source": [
        "#MLP for XOR problem\n",
        "Defining Activation functions\n"
      ],
      "metadata": {
        "id": "nbU0QlFBVFkC"
      }
    },
    {
      "cell_type": "code",
      "source": [
        "import numpy as np\n",
        "import matplotlib.pyplot as plt\n",
        "\n",
        "# Define the sigmoid activation function  its derivative\n",
        "def sigmoid(x):\n",
        "    return 1 / (1 + np.exp(-x))\n",
        "\n",
        "# derivative\n",
        "def sigmoid_derivative(x):\n",
        "    return x * (1 - x)\n"
      ],
      "metadata": {
        "id": "oznePwJCTks7"
      },
      "execution_count": null,
      "outputs": []
    },
    {
      "cell_type": "markdown",
      "source": [
        "IMPLMENTING MLP\n",
        "1) This code initializes weights and biases for the input-to-hidden and hidden-to-output layers randomly\n",
        "\n",
        "2) Trains the model ,forward pass through the network, calculates the error, and updates the weights\n",
        "\n",
        "3)Makes prediction and gives accuracy"
      ],
      "metadata": {
        "id": "Sn8bQDxDVOSS"
      }
    },
    {
      "cell_type": "code",
      "source": [
        "class MultiLayerPerceptron:\n",
        "    def __init__(self, input_size, hidden_size, output_size, learning_rate=0.1, epochs=10000):\n",
        "        self.input_size = input_size\n",
        "        self.hidden_size = hidden_size\n",
        "        self.output_size = output_size\n",
        "        self.learning_rate = learning_rate\n",
        "        self.epochs = epochs\n",
        "\n",
        "        # Initialize weights and biases\n",
        "        self.weights_input_hidden = np.random.uniform(-1, 1, (self.input_size, self.hidden_size))\n",
        "        self.bias_hidden = np.zeros((1, self.hidden_size))\n",
        "        self.weights_hidden_output = np.random.uniform(-1, 1, (self.hidden_size, self.output_size))\n",
        "        self.bias_output = np.zeros((1, self.output_size))\n",
        "\n",
        "    def fit(self, X, y):\n",
        "        for epoch in range(self.epochs):\n",
        "            # Forward pass\n",
        "            hidden_input = np.dot(X, self.weights_input_hidden) + self.bias_hidden\n",
        "            hidden_output = sigmoid(hidden_input)\n",
        "\n",
        "            final_input = np.dot(hidden_output, self.weights_hidden_output) + self.bias_output\n",
        "            final_output = sigmoid(final_input)\n",
        "\n",
        "            # Calculate error\n",
        "            error = y - final_output\n",
        "\n",
        "            #updation\n",
        "            self.weights_hidden_output += self.learning_rate * np.dot(hidden_output.T, error)\n",
        "            self.bias_output += self.learning_rate * np.sum(error, axis=0, keepdims=True)\n",
        "\n",
        "            hidden_error = np.dot(error, self.weights_hidden_output.T)\n",
        "            self.weights_input_hidden += self.learning_rate * np.dot(X.T, hidden_error * sigmoid_derivative(hidden_output))\n",
        "            self.bias_hidden += self.learning_rate * np.sum(hidden_error * sigmoid_derivative(hidden_output), axis=0, keepdims=True)\n",
        "\n",
        "    def predict(self, X):\n",
        "        hidden_input = np.dot(X, self.weights_input_hidden) + self.bias_hidden\n",
        "        hidden_output = sigmoid(hidden_input)\n",
        "\n",
        "        final_input = np.dot(hidden_output, self.weights_hidden_output) + self.bias_output\n",
        "        final_output = sigmoid(final_input)\n",
        "        return np.round(final_output)\n",
        "    def accuracy(self, X, y):\n",
        "        predictions = self.predict(X)\n",
        "        correct_predictions = np.sum(predictions == y)\n",
        "        accuracy = correct_predictions / len(y) * 100\n",
        "        return accuracy\n",
        "\n"
      ],
      "metadata": {
        "id": "Fwy9VJqRUBbc"
      },
      "execution_count": null,
      "outputs": []
    },
    {
      "cell_type": "markdown",
      "source": [
        "XOR DATA IMPLEMENTATION\n",
        "\n",
        "1) X_xor is a dataset that represents all possible input combinations for a 2-input XOR gate\n",
        "\n",
        "2) y_xor contains the corresponding outputs.\n",
        "\n"
      ],
      "metadata": {
        "id": "InzmpdTXVVo7"
      }
    },
    {
      "cell_type": "code",
      "source": [
        "X_xor = np.array([[0, 0], [0, 1], [1, 0], [1, 1]])\n",
        "y_xor = np.array([[0], [1], [1], [0]])"
      ],
      "metadata": {
        "id": "yiMeCMa_UrLi"
      },
      "execution_count": null,
      "outputs": []
    },
    {
      "cell_type": "markdown",
      "source": [
        "TRAINING MLP\n",
        "Trains the mlp model for XOR data"
      ],
      "metadata": {
        "id": "gr637Oe8VZyI"
      }
    },
    {
      "cell_type": "code",
      "source": [
        "mlp_xor = MultiLayerPerceptron(input_size=2, hidden_size=2, output_size=1, learning_rate=0.1, epochs=10000)\n",
        "mlp_xor.fit(X_xor, y_xor)"
      ],
      "metadata": {
        "id": "Qddb_cJnU23_"
      },
      "execution_count": null,
      "outputs": []
    },
    {
      "cell_type": "markdown",
      "source": [
        "PREDICTIONS MADE USING MPL\n"
      ],
      "metadata": {
        "id": "b-DnIW1-Vcf8"
      }
    },
    {
      "cell_type": "code",
      "source": [
        "y_pred_xor = mlp_xor.predict(X_xor)\n",
        "print(\"Predictions for XOR Gate:\")\n",
        "print(y_pred_xor)"
      ],
      "metadata": {
        "colab": {
          "base_uri": "https://localhost:8080/"
        },
        "id": "_YxrcdZ5U44r",
        "outputId": "d5936d6a-4b98-4d6d-93b6-30c53108140b"
      },
      "execution_count": null,
      "outputs": [
        {
          "output_type": "stream",
          "name": "stdout",
          "text": [
            "Predictions for XOR Gate:\n",
            "[[0.]\n",
            " [1.]\n",
            " [1.]\n",
            " [0.]]\n"
          ]
        }
      ]
    },
    {
      "cell_type": "markdown",
      "source": [
        "PLOTTING FOR MLP\n",
        "Displays a plot to represent the predictions"
      ],
      "metadata": {
        "id": "luqRSKdfVgNR"
      }
    },
    {
      "cell_type": "code",
      "source": [
        "# Decision boundary\n",
        "def plot_decision_boundary(X, y, model, title):\n",
        "    x_min, x_max = X[:, 0].min() - 1, X[:, 0].max() + 1\n",
        "    y_min, y_max = X[:, 1].min() - 1, X[:, 1].max() + 1\n",
        "    xx, yy = np.meshgrid(np.arange(x_min, x_max, 0.01),\n",
        "                         np.arange(y_min, y_max, 0.01))\n",
        "    grid = np.c_[xx.ravel(), yy.ravel()]\n",
        "    Z = model.predict(grid).reshape(xx.shape)\n",
        "\n",
        "    plt.contourf(xx, yy, Z, alpha=0.8, cmap=\"coolwarm\")\n",
        "    plt.scatter(X[:, 0], X[:, 1], c=y.flatten(), edgecolor=\"k\", cmap=\"coolwarm\")\n",
        "    plt.title(title)\n",
        "    plt.xlabel(\"Input 1\")\n",
        "    plt.ylabel(\"Input 2\")\n",
        "    plt.show()\n",
        "\n",
        "plot_decision_boundary(X_xor, y_xor, mlp_xor, \"Decision Boundary for XOR Gate\")\n"
      ],
      "metadata": {
        "colab": {
          "base_uri": "https://localhost:8080/",
          "height": 472
        },
        "id": "Oq27FUcMU8Jo",
        "outputId": "a273bcd4-1a3e-4e95-dbdc-a440465940ae"
      },
      "execution_count": null,
      "outputs": [
        {
          "output_type": "display_data",
          "data": {
            "text/plain": [
              "<Figure size 640x480 with 1 Axes>"
            ],
            "image/png": "[encoded data removed]"
          },
          "metadata": {}
        }
      ]
    },
    {
      "cell_type": "markdown",
      "source": [
        "EXPERIMENT-4\n",
        "##IMPLEMENTING ACTIVATION FUNCTIONS AND COMPARISION\n"
      ],
      "metadata": {
        "id": "m_oqwCJ_XsLD"
      }
    },
    {
      "cell_type": "markdown",
      "source": [],
      "metadata": {
        "id": "qcWhjZ9wXsIs"
      }
    },
    {
      "cell_type": "markdown",
      "source": [
        "IMPLEMENTING SIGMOID ACTIVATION FUNCTION\n",
        "\n",
        "1)The sigmoid function is applied to a range of input values from -10 to 10.\n",
        "\n",
        "2)A plot is created showing how the sigmoid function output\n",
        "\n",
        "3)The graph visualizes the S-shaped curve"
      ],
      "metadata": {
        "id": "4r8dcNrNX2PD"
      }
    },
    {
      "cell_type": "code",
      "source": [
        "import numpy as np\n",
        "import matplotlib.pyplot as plt\n",
        "\n",
        "# Sigmoid activation function\n",
        "def sigmoid(x):\n",
        "    return 1 / (1 + np.exp(-x))\n",
        "\n",
        "# Create a dataset\n",
        "X = np.linspace(-10, 10, 100)\n",
        "# Applying\n",
        "sigmoid_output = sigmoid(X)\n",
        "\n",
        "# Ploting\n",
        "plt.figure(figsize=(6, 4))\n",
        "plt.plot(X, sigmoid_output, label=\"Sigmoid\", color='b')\n",
        "plt.title(\"Sigmoid Activation Function\")\n",
        "plt.xlabel(\"Input\")\n",
        "plt.ylabel(\"Output\")\n",
        "plt.grid(True)\n",
        "plt.legend()\n",
        "plt.show()\n"
      ],
      "metadata": {
        "colab": {
          "base_uri": "https://localhost:8080/",
          "height": 410
        },
        "id": "D9Xpw8iAV0aV",
        "outputId": "cf509a7e-884e-46a6-fc96-5016798d6f9e"
      },
      "execution_count": null,
      "outputs": [
        {
          "output_type": "display_data",
          "data": {
            "text/plain": [
              "<Figure size 600x400 with 1 Axes>"
            ],
            "image/png": "[encoded data removed]"
          },
          "metadata": {}
        }
      ]
    },
    {
      "cell_type": "markdown",
      "source": [
        "IMPLEMENTING RELU ACTIVATION FUNCTION"
      ],
      "metadata": {
        "id": "MpZLAUV-X-D_"
      }
    },
    {
      "cell_type": "markdown",
      "source": [
        "1)The sigmoid function is applied to a range of input values from -10 to 10.\n",
        "\n",
        "2)A plot is created showing how the relu function output\n",
        "\n",
        "3)The graph visualizes the ReLU activation function,\n",
        "with a linear output for positive inputs and a flat zero line for negative inputs."
      ],
      "metadata": {
        "id": "uhrfyUEnb7NO"
      }
    },
    {
      "cell_type": "code",
      "source": [
        "import numpy as np\n",
        "import matplotlib.pyplot as plt\n",
        "\n",
        "# ReLU activation function\n",
        "def relu(x):\n",
        "    return np.maximum(0, x)\n",
        "\n",
        "# Create a dataset\n",
        "X = np.linspace(-10, 10, 100)\n",
        "\n",
        "# Applying\n",
        "relu_output = relu(X)\n",
        "\n",
        "# Ploting\n",
        "plt.figure(figsize=(6, 4))\n",
        "plt.plot(X, relu_output, label=\"ReLU\", color='g')\n",
        "plt.title(\"ReLU Activation Function\")\n",
        "plt.xlabel(\"Input\")\n",
        "plt.ylabel(\"Output\")\n",
        "plt.grid(True)\n",
        "plt.legend()\n",
        "plt.show()\n"
      ],
      "metadata": {
        "colab": {
          "base_uri": "https://localhost:8080/",
          "height": 410
        },
        "id": "FzZFNmNqWGci",
        "outputId": "48909335-29f4-4bd1-ecd0-bd978237bc00"
      },
      "execution_count": null,
      "outputs": [
        {
          "output_type": "display_data",
          "data": {
            "text/plain": [
              "<Figure size 600x400 with 1 Axes>"
            ],
            "image/png": "[encoded data removed]"
          },
          "metadata": {}
        }
      ]
    },
    {
      "cell_type": "markdown",
      "source": [
        "IMPLEMENTING TANH ACTIVATION FUNCTION\n",
        "\n",
        "1)The tanh function is applied to a range of input values from -10 to 10.\n",
        "\n",
        "2)A plot is created showing how the tanh function output\n",
        "\n",
        "3)The graph visualizes the S-shaped curve,around -1 and 1.\n"
      ],
      "metadata": {
        "id": "rhHM2hapYAz_"
      }
    },
    {
      "cell_type": "code",
      "source": [
        "import numpy as np\n",
        "import matplotlib.pyplot as plt\n",
        "\n",
        "# Tanh activation function\n",
        "def tanh(x):\n",
        "    return np.tanh(x)\n",
        "\n",
        "# Create a dataset\n",
        "X = np.linspace(-10, 10, 100)\n",
        "\n",
        "# Applying\n",
        "tanh_output = tanh(X)\n",
        "\n",
        "# Ploting\n",
        "plt.figure(figsize=(6, 4))\n",
        "plt.plot(X, tanh_output, label=\"Tanh\", color='r')\n",
        "plt.title(\"Tanh Activation Function\")\n",
        "plt.xlabel(\"Input\")\n",
        "plt.ylabel(\"Output\")\n",
        "plt.grid(True)\n",
        "plt.legend()\n",
        "plt.show()\n"
      ],
      "metadata": {
        "colab": {
          "base_uri": "https://localhost:8080/",
          "height": 410
        },
        "id": "zM2fDH6EWK0w",
        "outputId": "91c1badd-b910-4efd-f05b-388b292e6600"
      },
      "execution_count": null,
      "outputs": [
        {
          "output_type": "display_data",
          "data": {
            "text/plain": [
              "<Figure size 600x400 with 1 Axes>"
            ],
            "image/png": "[encoded data removed]"
          },
          "metadata": {}
        }
      ]
    },
    {
      "cell_type": "markdown",
      "source": [
        "PLOT COMPARISION OF ACTIVATION FUNCTIONS\n",
        "\n",
        "Makes graphical comparisions for all the activation fucntions"
      ],
      "metadata": {
        "id": "DuSo1zhIYFKr"
      }
    },
    {
      "cell_type": "code",
      "source": [
        "import numpy as np\n",
        "import matplotlib.pyplot as plt\n",
        "\n",
        "# Sigmoid activation function\n",
        "def sigmoid(x):\n",
        "    return 1 / (1 + np.exp(-x))\n",
        "\n",
        "# ReLU activation function\n",
        "def relu(x):\n",
        "    return np.maximum(0, x)\n",
        "\n",
        "# Tanh activation function\n",
        "def tanh(x):\n",
        "    return np.tanh(x)\n",
        "\n",
        "# Create a dataset\n",
        "X = np.linspace(-10, 10, 100)\n",
        "\n",
        "# Applying\n",
        "sigmoid_output = sigmoid(X)\n",
        "relu_output = relu(X)\n",
        "tanh_output = tanh(X)\n",
        "\n",
        "# Ploting\n",
        "plt.figure(figsize=(10, 6))\n",
        "\n",
        "plt.plot(X, sigmoid_output, label=\"Sigmoid\", color='b')\n",
        "plt.plot(X, relu_output, label=\"ReLU\", color='g')\n",
        "plt.plot(X, tanh_output, label=\"Tanh\", color='r')\n",
        "\n",
        "plt.title(\"Comparison of Activation Functions\")\n",
        "plt.xlabel(\"Input\")\n",
        "plt.ylabel(\"Output\")\n",
        "plt.legend()\n",
        "plt.grid(True)\n",
        "plt.show()\n"
      ],
      "metadata": {
        "colab": {
          "base_uri": "https://localhost:8080/",
          "height": 564
        },
        "id": "mqu5nuDfWZVs",
        "outputId": "01566329-803d-4e66-cb85-ad45ffc82e80"
      },
      "execution_count": null,
      "outputs": [
        {
          "output_type": "display_data",
          "data": {
            "text/plain": [
              "<Figure size 1000x600 with 1 Axes>"
            ],
            "image/png": "[encoded data removed]"
          },
          "metadata": {}
        }
      ]
    },
    {
      "cell_type": "markdown",
      "source": [
        "NUMERICAL COMPARISION OF ACTIVATION FUNCTIONS\n",
        "\n",
        "Makes numericalcomparisions for all the activation fucntions by creating a dataframe to compare"
      ],
      "metadata": {
        "id": "j9QdLBW9YOsY"
      }
    },
    {
      "cell_type": "code",
      "source": [
        "import numpy as np\n",
        "import pandas as pd\n",
        "\n",
        "# Sigmoid activation function\n",
        "def sigmoid(x):\n",
        "    return 1 / (1 + np.exp(-x))\n",
        "\n",
        "# ReLU activation function\n",
        "def relu(x):\n",
        "    return np.maximum(0, x)\n",
        "\n",
        "# Tanh activation function\n",
        "def tanh(x):\n",
        "    return np.tanh(x)\n",
        "\n",
        "# Create a dataset\n",
        "X = np.linspace(-10, 10, 100)\n",
        "\n",
        "# Applying AF\n",
        "sigmoid_output = sigmoid(X)\n",
        "relu_output = relu(X)\n",
        "tanh_output = tanh(X)\n",
        "\n",
        "# Create a DataFrame\n",
        "comparison_df = pd.DataFrame({\n",
        "    'Input': X,\n",
        "    'Sigmoid': sigmoid_output,\n",
        "    'ReLU': relu_output,\n",
        "    'Tanh': tanh_output\n",
        "})\n",
        "\n",
        "#comparison\n",
        "print(comparison_df.head())\n"
      ],
      "metadata": {
        "colab": {
          "base_uri": "https://localhost:8080/"
        },
        "id": "2bmSiQ7fWieY",
        "outputId": "c36f2a97-d162-4f9e-ee68-e551e23f5c4d"
      },
      "execution_count": null,
      "outputs": [
        {
          "output_type": "stream",
          "name": "stdout",
          "text": [
            "       Input   Sigmoid  ReLU  Tanh\n",
            "0 -10.000000  0.000045   0.0  -1.0\n",
            "1  -9.797980  0.000056   0.0  -1.0\n",
            "2  -9.595960  0.000068   0.0  -1.0\n",
            "3  -9.393939  0.000083   0.0  -1.0\n",
            "4  -9.191919  0.000102   0.0  -1.0\n"
          ]
        }
      ]
    },
    {
      "cell_type": "markdown",
      "source": [
        "EXPERIMENT-5\n",
        "##Implementing forward andbackward propogation"
      ],
      "metadata": {
        "id": "Phw0VDIwYTFq"
      }
    },
    {
      "cell_type": "markdown",
      "source": [
        "FORWARD PROPOGATION"
      ],
      "metadata": {
        "id": "EnoYDbxEYjqb"
      }
    },
    {
      "cell_type": "markdown",
      "source": [
        "1)The forward propagation function computes the hidden layer output by applying weights and biases.\n",
        "\n",
        "2)Applies Sigmoid activation function\n",
        "\n",
        "3) Outputs the result"
      ],
      "metadata": {
        "id": "7EHtIPJBdEKC"
      }
    },
    {
      "cell_type": "markdown",
      "source": [
        "BACKWARD PROPOGATION\n",
        "\n",
        "1)The backpropagation function calculates the error and gradients for both the output and hidden layers.\n",
        "\n",
        "2)Using the derivative of the Sigmoid function.\n",
        "\n",
        "3) Updates the weights and biases of the neural network using the gradients and the learning rate to minimize the error."
      ],
      "metadata": {
        "id": "AECKhJFxYmyH"
      }
    },
    {
      "cell_type": "code",
      "source": [
        "import numpy as np\n",
        "\n",
        "# Activation functions and their derivatives\n",
        "def sigmoid(x):\n",
        "    return 1 / (1 + np.exp(-x))\n",
        "\n",
        "def sigmoid_derivative(x):\n",
        "    return sigmoid(x) * (1 - sigmoid(x))\n",
        "\n",
        "# Initialize parameters\n",
        "def initialize_parameters(input_size, hidden_size, output_size):\n",
        "    np.random.seed(42)  # For reproducibility\n",
        "    W1 = np.random.randn(hidden_size, input_size) * 0.01  # Weights for hidden layer\n",
        "    b1 = np.zeros((hidden_size, 1))  # Bias for hidden layer\n",
        "    W2 = np.random.randn(output_size, hidden_size) * 0.01  # Weights for output layer\n",
        "    b2 = np.zeros((output_size, 1))  # Bias for output layer\n",
        "    return W1, b1, W2, b2\n",
        "\n",
        "# Forward propagation\n",
        "def forward_propagation(X, W1, b1, W2, b2):\n",
        "    # Hidden layer computations\n",
        "    Z1 = np.dot(W1, X) + b1\n",
        "    A1 = sigmoid(Z1)\n",
        "\n",
        "    # Output layer computations\n",
        "    Z2 = np.dot(W2, A1) + b2\n",
        "    A2 = sigmoid(Z2)\n",
        "\n",
        "    return Z1, A1, Z2, A2\n",
        "\n",
        "# Compute cost\n",
        "def compute_cost(Y, A2):\n",
        "    m = Y.shape[1]  # Number of examples\n",
        "    cost = -np.sum(Y * np.log(A2) + (1 - Y) * np.log(1 - A2)) / m\n",
        "    return np.squeeze(cost)  # Ensure cost is a scalar\n",
        "\n",
        "# Backpropagation\n",
        "def backpropagation(X, Y, Z1, A1, Z2, A2, W2):\n",
        "    m = X.shape[1]  # Number of examples\n",
        "\n",
        "    # Output layer gradients\n",
        "    dZ2 = A2 - Y\n",
        "    dW2 = np.dot(dZ2, A1.T) / m\n",
        "    db2 = np.sum(dZ2, axis=1, keepdims=True) / m\n",
        "\n",
        "    # Hidden layer gradients\n",
        "    dA1 = np.dot(W2.T, dZ2)\n",
        "    dZ1 = dA1 * sigmoid_derivative(Z1)\n",
        "    dW1 = np.dot(dZ1, X.T) / m\n",
        "    db1 = np.sum(dZ1, axis=1, keepdims=True) / m\n",
        "\n",
        "    return dW1, db1, dW2, db2\n",
        "\n",
        "# Update parameters\n",
        "def update_parameters(W1, b1, W2, b2, dW1, db1, dW2, db2, learning_rate):\n",
        "    W1 -= learning_rate * dW1\n",
        "    b1 -= learning_rate * db1\n",
        "    W2 -= learning_rate * dW2\n",
        "    b2 -= learning_rate * db2\n",
        "    return W1, b1, W2, b2\n",
        "\n",
        "# Train the neural network\n",
        "def train_nn(X, Y, input_size, hidden_size, output_size, epochs, learning_rate):\n",
        "    W1, b1, W2, b2 = initialize_parameters(input_size, hidden_size, output_size)\n",
        "\n",
        "    for i in range(epochs):\n",
        "        # Forward propagation\n",
        "        Z1, A1, Z2, A2 = forward_propagation(X, W1, b1, W2, b2)\n",
        "\n",
        "        # Compute cost\n",
        "        cost = compute_cost(Y, A2)\n",
        "\n",
        "        # Backpropagation\n",
        "        dW1, db1, dW2, db2 = backpropagation(X, Y, Z1, A1, Z2, A2, W2)\n",
        "\n",
        "        # Update parameters\n",
        "        W1, b1, W2, b2 = update_parameters(W1, b1, W2, b2, dW1, db1, dW2, db2, learning_rate)\n",
        "\n",
        "        if i % 100 == 0:\n",
        "            print(f\"Epoch {i}: Cost = {cost:.4f}\")\n",
        "\n",
        "    return W1, b1, W2, b2\n",
        "\n",
        "# Predict function\n",
        "def predict(X, W1, b1, W2, b2):\n",
        "    _, _, _, A2 = forward_propagation(X, W1, b1, W2, b2)\n",
        "    return (A2 > 0.5).astype(int)\n",
        "\n",
        "# XOR Dataset\n",
        "X = np.array([[0, 0, 1, 1], [0, 1, 0, 1]])  # Inputs\n",
        "Y = np.array([[0, 1, 1, 0]])  # Outputs\n",
        "\n",
        "# Hyperparameters\n",
        "input_size = 2\n",
        "hidden_size = 2\n",
        "output_size = 1\n",
        "epochs = 10000\n",
        "learning_rate = 0.1\n",
        "\n",
        "# Train the neural network\n",
        "W1, b1, W2, b2 = train_nn(X, Y, input_size, hidden_size, output_size, epochs, learning_rate)\n",
        "\n",
        "# Make predictions\n",
        "predictions = predict(X, W1, b1, W2, b2)\n",
        "print(\"Predictions:\", predictions)"
      ],
      "metadata": {
        "colab": {
          "base_uri": "https://localhost:8080/"
        },
        "id": "Fm4iyVO85Xpy",
        "outputId": "c3660af5-3578-42b5-d2c8-e3a3e55dad9c"
      },
      "execution_count": 3,
      "outputs": [
        {
          "output_type": "stream",
          "name": "stdout",
          "text": [
            "Epoch 0: Cost = 0.6931\n",
            "Epoch 100: Cost = 0.6931\n",
            "Epoch 200: Cost = 0.6931\n",
            "Epoch 300: Cost = 0.6931\n",
            "Epoch 400: Cost = 0.6931\n",
            "Epoch 500: Cost = 0.6931\n",
            "Epoch 600: Cost = 0.6931\n",
            "Epoch 700: Cost = 0.6931\n",
            "Epoch 800: Cost = 0.6931\n",
            "Epoch 900: Cost = 0.6931\n",
            "Epoch 1000: Cost = 0.6931\n",
            "Epoch 1100: Cost = 0.6931\n",
            "Epoch 1200: Cost = 0.6931\n",
            "Epoch 1300: Cost = 0.6931\n",
            "Epoch 1400: Cost = 0.6931\n",
            "Epoch 1500: Cost = 0.6931\n",
            "Epoch 1600: Cost = 0.6931\n",
            "Epoch 1700: Cost = 0.6931\n",
            "Epoch 1800: Cost = 0.6931\n",
            "Epoch 1900: Cost = 0.6931\n",
            "Epoch 2000: Cost = 0.6931\n",
            "Epoch 2100: Cost = 0.6931\n",
            "Epoch 2200: Cost = 0.6931\n",
            "Epoch 2300: Cost = 0.6931\n",
            "Epoch 2400: Cost = 0.6931\n",
            "Epoch 2500: Cost = 0.6931\n",
            "Epoch 2600: Cost = 0.6931\n",
            "Epoch 2700: Cost = 0.6931\n",
            "Epoch 2800: Cost = 0.6931\n",
            "Epoch 2900: Cost = 0.6931\n",
            "Epoch 3000: Cost = 0.6931\n",
            "Epoch 3100: Cost = 0.6931\n",
            "Epoch 3200: Cost = 0.6931\n",
            "Epoch 3300: Cost = 0.6931\n",
            "Epoch 3400: Cost = 0.6931\n",
            "Epoch 3500: Cost = 0.6931\n",
            "Epoch 3600: Cost = 0.6931\n",
            "Epoch 3700: Cost = 0.6931\n",
            "Epoch 3800: Cost = 0.6931\n",
            "Epoch 3900: Cost = 0.6931\n",
            "Epoch 4000: Cost = 0.6931\n",
            "Epoch 4100: Cost = 0.6931\n",
            "Epoch 4200: Cost = 0.6931\n",
            "Epoch 4300: Cost = 0.6931\n",
            "Epoch 4400: Cost = 0.6931\n",
            "Epoch 4500: Cost = 0.6931\n",
            "Epoch 4600: Cost = 0.6931\n",
            "Epoch 4700: Cost = 0.6931\n",
            "Epoch 4800: Cost = 0.6931\n",
            "Epoch 4900: Cost = 0.6931\n",
            "Epoch 5000: Cost = 0.6931\n",
            "Epoch 5100: Cost = 0.6931\n",
            "Epoch 5200: Cost = 0.6931\n",
            "Epoch 5300: Cost = 0.6931\n",
            "Epoch 5400: Cost = 0.6931\n",
            "Epoch 5500: Cost = 0.6931\n",
            "Epoch 5600: Cost = 0.6931\n",
            "Epoch 5700: Cost = 0.6931\n",
            "Epoch 5800: Cost = 0.6931\n",
            "Epoch 5900: Cost = 0.6931\n",
            "Epoch 6000: Cost = 0.6931\n",
            "Epoch 6100: Cost = 0.6931\n",
            "Epoch 6200: Cost = 0.6931\n",
            "Epoch 6300: Cost = 0.6931\n",
            "Epoch 6400: Cost = 0.6931\n",
            "Epoch 6500: Cost = 0.6931\n",
            "Epoch 6600: Cost = 0.6931\n",
            "Epoch 6700: Cost = 0.6931\n",
            "Epoch 6800: Cost = 0.6931\n",
            "Epoch 6900: Cost = 0.6931\n",
            "Epoch 7000: Cost = 0.6931\n",
            "Epoch 7100: Cost = 0.6931\n",
            "Epoch 7200: Cost = 0.6931\n",
            "Epoch 7300: Cost = 0.6931\n",
            "Epoch 7400: Cost = 0.6931\n",
            "Epoch 7500: Cost = 0.6931\n",
            "Epoch 7600: Cost = 0.6931\n",
            "Epoch 7700: Cost = 0.6931\n",
            "Epoch 7800: Cost = 0.6931\n",
            "Epoch 7900: Cost = 0.6931\n",
            "Epoch 8000: Cost = 0.6931\n",
            "Epoch 8100: Cost = 0.6931\n",
            "Epoch 8200: Cost = 0.6931\n",
            "Epoch 8300: Cost = 0.6931\n",
            "Epoch 8400: Cost = 0.6931\n",
            "Epoch 8500: Cost = 0.6931\n",
            "Epoch 8600: Cost = 0.6931\n",
            "Epoch 8700: Cost = 0.6931\n",
            "Epoch 8800: Cost = 0.6931\n",
            "Epoch 8900: Cost = 0.6931\n",
            "Epoch 9000: Cost = 0.6931\n",
            "Epoch 9100: Cost = 0.6931\n",
            "Epoch 9200: Cost = 0.6931\n",
            "Epoch 9300: Cost = 0.6931\n",
            "Epoch 9400: Cost = 0.6931\n",
            "Epoch 9500: Cost = 0.6931\n",
            "Epoch 9600: Cost = 0.6931\n",
            "Epoch 9700: Cost = 0.6931\n",
            "Epoch 9800: Cost = 0.6931\n",
            "Epoch 9900: Cost = 0.6931\n",
            "Predictions: [[1 0 1 0]]\n"
          ]
        }
      ]
    }
  ]
}